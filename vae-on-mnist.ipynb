{
 "cells": [
  {
   "cell_type": "code",
   "execution_count": 1,
   "id": "889a3d61",
   "metadata": {
    "execution": {
     "iopub.execute_input": "2025-02-18T21:01:09.665831Z",
     "iopub.status.busy": "2025-02-18T21:01:09.665577Z",
     "iopub.status.idle": "2025-02-18T21:01:13.607050Z",
     "shell.execute_reply": "2025-02-18T21:01:13.606363Z"
    },
    "papermill": {
     "duration": 3.949771,
     "end_time": "2025-02-18T21:01:13.608657",
     "exception": false,
     "start_time": "2025-02-18T21:01:09.658886",
     "status": "completed"
    },
    "tags": []
   },
   "outputs": [],
   "source": [
    "import numpy as np\n",
    "import pandas as pd\n",
    "import torch\n",
    "import torch.nn as nn\n",
    "import torch.nn.functional as F\n",
    "from torch.utils.data import Dataset, DataLoader\n",
    "import torch.optim as optim"
   ]
  },
  {
   "cell_type": "markdown",
   "id": "44a70a27",
   "metadata": {
    "papermill": {
     "duration": 0.004791,
     "end_time": "2025-02-18T21:01:13.619172",
     "exception": false,
     "start_time": "2025-02-18T21:01:13.614381",
     "status": "completed"
    },
    "tags": []
   },
   "source": [
    "## (1, 28, 28)  ->  (128, 1, 1)"
   ]
  },
  {
   "cell_type": "code",
   "execution_count": 2,
   "id": "79179306",
   "metadata": {
    "execution": {
     "iopub.execute_input": "2025-02-18T21:01:13.630021Z",
     "iopub.status.busy": "2025-02-18T21:01:13.629669Z",
     "iopub.status.idle": "2025-02-18T21:01:13.632913Z",
     "shell.execute_reply": "2025-02-18T21:01:13.632304Z"
    },
    "papermill": {
     "duration": 0.009797,
     "end_time": "2025-02-18T21:01:13.634014",
     "exception": false,
     "start_time": "2025-02-18T21:01:13.624217",
     "status": "completed"
    },
    "tags": []
   },
   "outputs": [],
   "source": [
    "ZDIM = 4            # latent dimension"
   ]
  },
  {
   "cell_type": "code",
   "execution_count": 3,
   "id": "2ce5e035",
   "metadata": {
    "execution": {
     "iopub.execute_input": "2025-02-18T21:01:13.644538Z",
     "iopub.status.busy": "2025-02-18T21:01:13.644324Z",
     "iopub.status.idle": "2025-02-18T21:01:13.648925Z",
     "shell.execute_reply": "2025-02-18T21:01:13.648321Z"
    },
    "papermill": {
     "duration": 0.01106,
     "end_time": "2025-02-18T21:01:13.649968",
     "exception": false,
     "start_time": "2025-02-18T21:01:13.638908",
     "status": "completed"
    },
    "tags": []
   },
   "outputs": [],
   "source": [
    "class Encoder(nn.Module):\n",
    "    def __init__(self, in_channels=1, out_channels=128):\n",
    "        super(Encoder, self).__init__()\n",
    "        self.conv1 = nn.Conv2d(in_channels=in_channels, out_channels=64, kernel_size=5, stride=2, padding=2)       # (1, 28, 28) -> (64, 14, 14)\n",
    "        self.conv2 = nn.Conv2d(in_channels=64, out_channels=128, kernel_size=5, stride=2, padding=2)                # (64, 14, 14) -> (128, 7, 7)\n",
    "        self.fc1 = nn.Linear(6272, 2 * ZDIM)\n",
    "        \n",
    "    def forward(self, x):\n",
    "        x = self.conv1(x)\n",
    "        x = F.relu(x)\n",
    "        x = self.conv2(x)\n",
    "        x = F.relu(x)\n",
    "        x = torch.flatten(x, start_dim=1)         # input image has 4 dimensions. but we want to flatten c,h,w. not the batch dimension. so start dim = 1\n",
    "        x = self.fc1(x)\n",
    "        \n",
    "        return x"
   ]
  },
  {
   "cell_type": "code",
   "execution_count": 4,
   "id": "1df333cd",
   "metadata": {
    "execution": {
     "iopub.execute_input": "2025-02-18T21:01:13.660425Z",
     "iopub.status.busy": "2025-02-18T21:01:13.660197Z",
     "iopub.status.idle": "2025-02-18T21:01:13.686427Z",
     "shell.execute_reply": "2025-02-18T21:01:13.685866Z"
    },
    "papermill": {
     "duration": 0.032819,
     "end_time": "2025-02-18T21:01:13.687632",
     "exception": false,
     "start_time": "2025-02-18T21:01:13.654813",
     "status": "completed"
    },
    "tags": []
   },
   "outputs": [],
   "source": [
    "encoder = Encoder(in_channels=1, out_channels=128)"
   ]
  },
  {
   "cell_type": "code",
   "execution_count": 5,
   "id": "88546f05",
   "metadata": {
    "execution": {
     "iopub.execute_input": "2025-02-18T21:01:13.698135Z",
     "iopub.status.busy": "2025-02-18T21:01:13.697934Z",
     "iopub.status.idle": "2025-02-18T21:01:13.798127Z",
     "shell.execute_reply": "2025-02-18T21:01:13.796958Z"
    },
    "papermill": {
     "duration": 0.107198,
     "end_time": "2025-02-18T21:01:13.799769",
     "exception": false,
     "start_time": "2025-02-18T21:01:13.692571",
     "status": "completed"
    },
    "tags": []
   },
   "outputs": [
    {
     "name": "stdout",
     "output_type": "stream",
     "text": [
      "torch.Size([1, 8])\n"
     ]
    }
   ],
   "source": [
    "# rand_img = np.random.rand(1, 28, 28)\n",
    "# rand_img = rand_img.astype(np.float32)\n",
    "\n",
    "rand_img = torch.rand(1, 28, 28)\n",
    "rand_img = torch.unsqueeze(rand_img, dim=0)\n",
    "pred = encoder(rand_img)\n",
    "print(pred.shape)"
   ]
  },
  {
   "cell_type": "code",
   "execution_count": null,
   "id": "6386079c",
   "metadata": {
    "papermill": {
     "duration": 0.00495,
     "end_time": "2025-02-18T21:01:13.810778",
     "exception": false,
     "start_time": "2025-02-18T21:01:13.805828",
     "status": "completed"
    },
    "tags": []
   },
   "outputs": [],
   "source": []
  },
  {
   "cell_type": "markdown",
   "id": "b03ce3cd",
   "metadata": {
    "papermill": {
     "duration": 0.004789,
     "end_time": "2025-02-18T21:01:13.820739",
     "exception": false,
     "start_time": "2025-02-18T21:01:13.815950",
     "status": "completed"
    },
    "tags": []
   },
   "source": [
    "## (64, 1, 1)  ->  (1, 28, 28)"
   ]
  },
  {
   "cell_type": "code",
   "execution_count": 6,
   "id": "9b902d1e",
   "metadata": {
    "execution": {
     "iopub.execute_input": "2025-02-18T21:01:13.831558Z",
     "iopub.status.busy": "2025-02-18T21:01:13.831315Z",
     "iopub.status.idle": "2025-02-18T21:01:13.835889Z",
     "shell.execute_reply": "2025-02-18T21:01:13.835238Z"
    },
    "papermill": {
     "duration": 0.011129,
     "end_time": "2025-02-18T21:01:13.836985",
     "exception": false,
     "start_time": "2025-02-18T21:01:13.825856",
     "status": "completed"
    },
    "tags": []
   },
   "outputs": [],
   "source": [
    "class Decoder(nn.Module):\n",
    "    def __init__(self):\n",
    "        super(Decoder, self).__init__()\n",
    "        self.fc1 = nn.Linear(ZDIM, 6272)\n",
    "        self.conv1 = nn.ConvTranspose2d(in_channels=128, out_channels=64, kernel_size=2, stride=2)       # (128, 7, 7) -> (64, 14, 14)\n",
    "        self.conv2 = nn.ConvTranspose2d(in_channels=64, out_channels=1, kernel_size=2, stride=2)        # (64, 14, 14) -> (1, 28, 28)\n",
    "\n",
    "    def forward(self, x):\n",
    "        B, D = x.shape\n",
    "        x = self.fc1(x)\n",
    "        x = F.relu(x)\n",
    "        x = x.reshape(B, 128, 7, 7)\n",
    "        x = self.conv1(x)\n",
    "        x = F.relu(x)\n",
    "        x = self.conv2(x)\n",
    "        \n",
    "        return x"
   ]
  },
  {
   "cell_type": "code",
   "execution_count": 7,
   "id": "2f09bf8f",
   "metadata": {
    "execution": {
     "iopub.execute_input": "2025-02-18T21:01:13.847554Z",
     "iopub.status.busy": "2025-02-18T21:01:13.847325Z",
     "iopub.status.idle": "2025-02-18T21:01:13.851478Z",
     "shell.execute_reply": "2025-02-18T21:01:13.850863Z"
    },
    "papermill": {
     "duration": 0.010734,
     "end_time": "2025-02-18T21:01:13.852698",
     "exception": false,
     "start_time": "2025-02-18T21:01:13.841964",
     "status": "completed"
    },
    "tags": []
   },
   "outputs": [],
   "source": [
    "decoder = Decoder()"
   ]
  },
  {
   "cell_type": "code",
   "execution_count": 8,
   "id": "cd82c00c",
   "metadata": {
    "execution": {
     "iopub.execute_input": "2025-02-18T21:01:13.863238Z",
     "iopub.status.busy": "2025-02-18T21:01:13.863007Z",
     "iopub.status.idle": "2025-02-18T21:01:13.881630Z",
     "shell.execute_reply": "2025-02-18T21:01:13.880764Z"
    },
    "papermill": {
     "duration": 0.02524,
     "end_time": "2025-02-18T21:01:13.882936",
     "exception": false,
     "start_time": "2025-02-18T21:01:13.857696",
     "status": "completed"
    },
    "tags": []
   },
   "outputs": [
    {
     "name": "stdout",
     "output_type": "stream",
     "text": [
      "torch.Size([1, 1, 28, 28])\n"
     ]
    }
   ],
   "source": [
    "# rand_img2 = np.random.rand(64, 1, 1)\n",
    "# rand_img2 = rand_img2.astype(np.float32)\n",
    "\n",
    "rand_img2 = torch.rand(ZDIM)\n",
    "# rand_img2 = torch.from_numpy(rand_img2)\n",
    "rand_img2 = torch.unsqueeze(rand_img2, dim=0)\n",
    "pred2 = decoder(rand_img2)\n",
    "print(pred2.shape)"
   ]
  },
  {
   "cell_type": "markdown",
   "id": "3d1027a7",
   "metadata": {
    "papermill": {
     "duration": 0.005622,
     "end_time": "2025-02-18T21:01:13.893686",
     "exception": false,
     "start_time": "2025-02-18T21:01:13.888064",
     "status": "completed"
    },
    "tags": []
   },
   "source": [
    "## MNIST"
   ]
  },
  {
   "cell_type": "code",
   "execution_count": 9,
   "id": "ee3f976f",
   "metadata": {
    "execution": {
     "iopub.execute_input": "2025-02-18T21:01:13.904723Z",
     "iopub.status.busy": "2025-02-18T21:01:13.904509Z",
     "iopub.status.idle": "2025-02-18T21:01:13.907460Z",
     "shell.execute_reply": "2025-02-18T21:01:13.906816Z"
    },
    "papermill": {
     "duration": 0.009859,
     "end_time": "2025-02-18T21:01:13.908686",
     "exception": false,
     "start_time": "2025-02-18T21:01:13.898827",
     "status": "completed"
    },
    "tags": []
   },
   "outputs": [],
   "source": [
    "train_path = \"/kaggle/input/digit-recognizer/train.csv\"\n",
    "test_path = \"/kaggle/input/digit-recognizer/test.csv\""
   ]
  },
  {
   "cell_type": "code",
   "execution_count": 10,
   "id": "834b321f",
   "metadata": {
    "execution": {
     "iopub.execute_input": "2025-02-18T21:01:13.919724Z",
     "iopub.status.busy": "2025-02-18T21:01:13.919501Z",
     "iopub.status.idle": "2025-02-18T21:01:16.669950Z",
     "shell.execute_reply": "2025-02-18T21:01:16.669178Z"
    },
    "papermill": {
     "duration": 2.757505,
     "end_time": "2025-02-18T21:01:16.671370",
     "exception": false,
     "start_time": "2025-02-18T21:01:13.913865",
     "status": "completed"
    },
    "tags": []
   },
   "outputs": [
    {
     "data": {
      "text/html": [
       "<div>\n",
       "<style scoped>\n",
       "    .dataframe tbody tr th:only-of-type {\n",
       "        vertical-align: middle;\n",
       "    }\n",
       "\n",
       "    .dataframe tbody tr th {\n",
       "        vertical-align: top;\n",
       "    }\n",
       "\n",
       "    .dataframe thead th {\n",
       "        text-align: right;\n",
       "    }\n",
       "</style>\n",
       "<table border=\"1\" class=\"dataframe\">\n",
       "  <thead>\n",
       "    <tr style=\"text-align: right;\">\n",
       "      <th></th>\n",
       "      <th>label</th>\n",
       "      <th>pixel0</th>\n",
       "      <th>pixel1</th>\n",
       "      <th>pixel2</th>\n",
       "      <th>pixel3</th>\n",
       "      <th>pixel4</th>\n",
       "      <th>pixel5</th>\n",
       "      <th>pixel6</th>\n",
       "      <th>pixel7</th>\n",
       "      <th>pixel8</th>\n",
       "      <th>...</th>\n",
       "      <th>pixel774</th>\n",
       "      <th>pixel775</th>\n",
       "      <th>pixel776</th>\n",
       "      <th>pixel777</th>\n",
       "      <th>pixel778</th>\n",
       "      <th>pixel779</th>\n",
       "      <th>pixel780</th>\n",
       "      <th>pixel781</th>\n",
       "      <th>pixel782</th>\n",
       "      <th>pixel783</th>\n",
       "    </tr>\n",
       "  </thead>\n",
       "  <tbody>\n",
       "    <tr>\n",
       "      <th>0</th>\n",
       "      <td>1</td>\n",
       "      <td>0</td>\n",
       "      <td>0</td>\n",
       "      <td>0</td>\n",
       "      <td>0</td>\n",
       "      <td>0</td>\n",
       "      <td>0</td>\n",
       "      <td>0</td>\n",
       "      <td>0</td>\n",
       "      <td>0</td>\n",
       "      <td>...</td>\n",
       "      <td>0</td>\n",
       "      <td>0</td>\n",
       "      <td>0</td>\n",
       "      <td>0</td>\n",
       "      <td>0</td>\n",
       "      <td>0</td>\n",
       "      <td>0</td>\n",
       "      <td>0</td>\n",
       "      <td>0</td>\n",
       "      <td>0</td>\n",
       "    </tr>\n",
       "    <tr>\n",
       "      <th>1</th>\n",
       "      <td>0</td>\n",
       "      <td>0</td>\n",
       "      <td>0</td>\n",
       "      <td>0</td>\n",
       "      <td>0</td>\n",
       "      <td>0</td>\n",
       "      <td>0</td>\n",
       "      <td>0</td>\n",
       "      <td>0</td>\n",
       "      <td>0</td>\n",
       "      <td>...</td>\n",
       "      <td>0</td>\n",
       "      <td>0</td>\n",
       "      <td>0</td>\n",
       "      <td>0</td>\n",
       "      <td>0</td>\n",
       "      <td>0</td>\n",
       "      <td>0</td>\n",
       "      <td>0</td>\n",
       "      <td>0</td>\n",
       "      <td>0</td>\n",
       "    </tr>\n",
       "    <tr>\n",
       "      <th>2</th>\n",
       "      <td>1</td>\n",
       "      <td>0</td>\n",
       "      <td>0</td>\n",
       "      <td>0</td>\n",
       "      <td>0</td>\n",
       "      <td>0</td>\n",
       "      <td>0</td>\n",
       "      <td>0</td>\n",
       "      <td>0</td>\n",
       "      <td>0</td>\n",
       "      <td>...</td>\n",
       "      <td>0</td>\n",
       "      <td>0</td>\n",
       "      <td>0</td>\n",
       "      <td>0</td>\n",
       "      <td>0</td>\n",
       "      <td>0</td>\n",
       "      <td>0</td>\n",
       "      <td>0</td>\n",
       "      <td>0</td>\n",
       "      <td>0</td>\n",
       "    </tr>\n",
       "    <tr>\n",
       "      <th>3</th>\n",
       "      <td>4</td>\n",
       "      <td>0</td>\n",
       "      <td>0</td>\n",
       "      <td>0</td>\n",
       "      <td>0</td>\n",
       "      <td>0</td>\n",
       "      <td>0</td>\n",
       "      <td>0</td>\n",
       "      <td>0</td>\n",
       "      <td>0</td>\n",
       "      <td>...</td>\n",
       "      <td>0</td>\n",
       "      <td>0</td>\n",
       "      <td>0</td>\n",
       "      <td>0</td>\n",
       "      <td>0</td>\n",
       "      <td>0</td>\n",
       "      <td>0</td>\n",
       "      <td>0</td>\n",
       "      <td>0</td>\n",
       "      <td>0</td>\n",
       "    </tr>\n",
       "    <tr>\n",
       "      <th>4</th>\n",
       "      <td>0</td>\n",
       "      <td>0</td>\n",
       "      <td>0</td>\n",
       "      <td>0</td>\n",
       "      <td>0</td>\n",
       "      <td>0</td>\n",
       "      <td>0</td>\n",
       "      <td>0</td>\n",
       "      <td>0</td>\n",
       "      <td>0</td>\n",
       "      <td>...</td>\n",
       "      <td>0</td>\n",
       "      <td>0</td>\n",
       "      <td>0</td>\n",
       "      <td>0</td>\n",
       "      <td>0</td>\n",
       "      <td>0</td>\n",
       "      <td>0</td>\n",
       "      <td>0</td>\n",
       "      <td>0</td>\n",
       "      <td>0</td>\n",
       "    </tr>\n",
       "  </tbody>\n",
       "</table>\n",
       "<p>5 rows × 785 columns</p>\n",
       "</div>"
      ],
      "text/plain": [
       "   label  pixel0  pixel1  pixel2  pixel3  pixel4  pixel5  pixel6  pixel7  \\\n",
       "0      1       0       0       0       0       0       0       0       0   \n",
       "1      0       0       0       0       0       0       0       0       0   \n",
       "2      1       0       0       0       0       0       0       0       0   \n",
       "3      4       0       0       0       0       0       0       0       0   \n",
       "4      0       0       0       0       0       0       0       0       0   \n",
       "\n",
       "   pixel8  ...  pixel774  pixel775  pixel776  pixel777  pixel778  pixel779  \\\n",
       "0       0  ...         0         0         0         0         0         0   \n",
       "1       0  ...         0         0         0         0         0         0   \n",
       "2       0  ...         0         0         0         0         0         0   \n",
       "3       0  ...         0         0         0         0         0         0   \n",
       "4       0  ...         0         0         0         0         0         0   \n",
       "\n",
       "   pixel780  pixel781  pixel782  pixel783  \n",
       "0         0         0         0         0  \n",
       "1         0         0         0         0  \n",
       "2         0         0         0         0  \n",
       "3         0         0         0         0  \n",
       "4         0         0         0         0  \n",
       "\n",
       "[5 rows x 785 columns]"
      ]
     },
     "execution_count": 10,
     "metadata": {},
     "output_type": "execute_result"
    }
   ],
   "source": [
    "train_df = pd.read_csv(train_path)\n",
    "train_df.head()"
   ]
  },
  {
   "cell_type": "code",
   "execution_count": 11,
   "id": "c72d0815",
   "metadata": {
    "execution": {
     "iopub.execute_input": "2025-02-18T21:01:16.684624Z",
     "iopub.status.busy": "2025-02-18T21:01:16.684361Z",
     "iopub.status.idle": "2025-02-18T21:01:18.224144Z",
     "shell.execute_reply": "2025-02-18T21:01:18.223093Z"
    },
    "papermill": {
     "duration": 1.547837,
     "end_time": "2025-02-18T21:01:18.225481",
     "exception": false,
     "start_time": "2025-02-18T21:01:16.677644",
     "status": "completed"
    },
    "tags": []
   },
   "outputs": [
    {
     "data": {
      "text/html": [
       "<div>\n",
       "<style scoped>\n",
       "    .dataframe tbody tr th:only-of-type {\n",
       "        vertical-align: middle;\n",
       "    }\n",
       "\n",
       "    .dataframe tbody tr th {\n",
       "        vertical-align: top;\n",
       "    }\n",
       "\n",
       "    .dataframe thead th {\n",
       "        text-align: right;\n",
       "    }\n",
       "</style>\n",
       "<table border=\"1\" class=\"dataframe\">\n",
       "  <thead>\n",
       "    <tr style=\"text-align: right;\">\n",
       "      <th></th>\n",
       "      <th>pixel0</th>\n",
       "      <th>pixel1</th>\n",
       "      <th>pixel2</th>\n",
       "      <th>pixel3</th>\n",
       "      <th>pixel4</th>\n",
       "      <th>pixel5</th>\n",
       "      <th>pixel6</th>\n",
       "      <th>pixel7</th>\n",
       "      <th>pixel8</th>\n",
       "      <th>pixel9</th>\n",
       "      <th>...</th>\n",
       "      <th>pixel774</th>\n",
       "      <th>pixel775</th>\n",
       "      <th>pixel776</th>\n",
       "      <th>pixel777</th>\n",
       "      <th>pixel778</th>\n",
       "      <th>pixel779</th>\n",
       "      <th>pixel780</th>\n",
       "      <th>pixel781</th>\n",
       "      <th>pixel782</th>\n",
       "      <th>pixel783</th>\n",
       "    </tr>\n",
       "  </thead>\n",
       "  <tbody>\n",
       "    <tr>\n",
       "      <th>0</th>\n",
       "      <td>0</td>\n",
       "      <td>0</td>\n",
       "      <td>0</td>\n",
       "      <td>0</td>\n",
       "      <td>0</td>\n",
       "      <td>0</td>\n",
       "      <td>0</td>\n",
       "      <td>0</td>\n",
       "      <td>0</td>\n",
       "      <td>0</td>\n",
       "      <td>...</td>\n",
       "      <td>0</td>\n",
       "      <td>0</td>\n",
       "      <td>0</td>\n",
       "      <td>0</td>\n",
       "      <td>0</td>\n",
       "      <td>0</td>\n",
       "      <td>0</td>\n",
       "      <td>0</td>\n",
       "      <td>0</td>\n",
       "      <td>0</td>\n",
       "    </tr>\n",
       "    <tr>\n",
       "      <th>1</th>\n",
       "      <td>0</td>\n",
       "      <td>0</td>\n",
       "      <td>0</td>\n",
       "      <td>0</td>\n",
       "      <td>0</td>\n",
       "      <td>0</td>\n",
       "      <td>0</td>\n",
       "      <td>0</td>\n",
       "      <td>0</td>\n",
       "      <td>0</td>\n",
       "      <td>...</td>\n",
       "      <td>0</td>\n",
       "      <td>0</td>\n",
       "      <td>0</td>\n",
       "      <td>0</td>\n",
       "      <td>0</td>\n",
       "      <td>0</td>\n",
       "      <td>0</td>\n",
       "      <td>0</td>\n",
       "      <td>0</td>\n",
       "      <td>0</td>\n",
       "    </tr>\n",
       "    <tr>\n",
       "      <th>2</th>\n",
       "      <td>0</td>\n",
       "      <td>0</td>\n",
       "      <td>0</td>\n",
       "      <td>0</td>\n",
       "      <td>0</td>\n",
       "      <td>0</td>\n",
       "      <td>0</td>\n",
       "      <td>0</td>\n",
       "      <td>0</td>\n",
       "      <td>0</td>\n",
       "      <td>...</td>\n",
       "      <td>0</td>\n",
       "      <td>0</td>\n",
       "      <td>0</td>\n",
       "      <td>0</td>\n",
       "      <td>0</td>\n",
       "      <td>0</td>\n",
       "      <td>0</td>\n",
       "      <td>0</td>\n",
       "      <td>0</td>\n",
       "      <td>0</td>\n",
       "    </tr>\n",
       "    <tr>\n",
       "      <th>3</th>\n",
       "      <td>0</td>\n",
       "      <td>0</td>\n",
       "      <td>0</td>\n",
       "      <td>0</td>\n",
       "      <td>0</td>\n",
       "      <td>0</td>\n",
       "      <td>0</td>\n",
       "      <td>0</td>\n",
       "      <td>0</td>\n",
       "      <td>0</td>\n",
       "      <td>...</td>\n",
       "      <td>0</td>\n",
       "      <td>0</td>\n",
       "      <td>0</td>\n",
       "      <td>0</td>\n",
       "      <td>0</td>\n",
       "      <td>0</td>\n",
       "      <td>0</td>\n",
       "      <td>0</td>\n",
       "      <td>0</td>\n",
       "      <td>0</td>\n",
       "    </tr>\n",
       "    <tr>\n",
       "      <th>4</th>\n",
       "      <td>0</td>\n",
       "      <td>0</td>\n",
       "      <td>0</td>\n",
       "      <td>0</td>\n",
       "      <td>0</td>\n",
       "      <td>0</td>\n",
       "      <td>0</td>\n",
       "      <td>0</td>\n",
       "      <td>0</td>\n",
       "      <td>0</td>\n",
       "      <td>...</td>\n",
       "      <td>0</td>\n",
       "      <td>0</td>\n",
       "      <td>0</td>\n",
       "      <td>0</td>\n",
       "      <td>0</td>\n",
       "      <td>0</td>\n",
       "      <td>0</td>\n",
       "      <td>0</td>\n",
       "      <td>0</td>\n",
       "      <td>0</td>\n",
       "    </tr>\n",
       "  </tbody>\n",
       "</table>\n",
       "<p>5 rows × 784 columns</p>\n",
       "</div>"
      ],
      "text/plain": [
       "   pixel0  pixel1  pixel2  pixel3  pixel4  pixel5  pixel6  pixel7  pixel8  \\\n",
       "0       0       0       0       0       0       0       0       0       0   \n",
       "1       0       0       0       0       0       0       0       0       0   \n",
       "2       0       0       0       0       0       0       0       0       0   \n",
       "3       0       0       0       0       0       0       0       0       0   \n",
       "4       0       0       0       0       0       0       0       0       0   \n",
       "\n",
       "   pixel9  ...  pixel774  pixel775  pixel776  pixel777  pixel778  pixel779  \\\n",
       "0       0  ...         0         0         0         0         0         0   \n",
       "1       0  ...         0         0         0         0         0         0   \n",
       "2       0  ...         0         0         0         0         0         0   \n",
       "3       0  ...         0         0         0         0         0         0   \n",
       "4       0  ...         0         0         0         0         0         0   \n",
       "\n",
       "   pixel780  pixel781  pixel782  pixel783  \n",
       "0         0         0         0         0  \n",
       "1         0         0         0         0  \n",
       "2         0         0         0         0  \n",
       "3         0         0         0         0  \n",
       "4         0         0         0         0  \n",
       "\n",
       "[5 rows x 784 columns]"
      ]
     },
     "execution_count": 11,
     "metadata": {},
     "output_type": "execute_result"
    }
   ],
   "source": [
    "test_df = pd.read_csv(test_path)\n",
    "test_df.head()"
   ]
  },
  {
   "cell_type": "code",
   "execution_count": 12,
   "id": "4b3d944c",
   "metadata": {
    "execution": {
     "iopub.execute_input": "2025-02-18T21:01:18.237659Z",
     "iopub.status.busy": "2025-02-18T21:01:18.237398Z",
     "iopub.status.idle": "2025-02-18T21:01:18.241939Z",
     "shell.execute_reply": "2025-02-18T21:01:18.240948Z"
    },
    "papermill": {
     "duration": 0.011887,
     "end_time": "2025-02-18T21:01:18.243130",
     "exception": false,
     "start_time": "2025-02-18T21:01:18.231243",
     "status": "completed"
    },
    "tags": []
   },
   "outputs": [
    {
     "name": "stdout",
     "output_type": "stream",
     "text": [
      "[[1 0 0 ... 0 0 0]\n",
      " [0 0 0 ... 0 0 0]\n",
      " [1 0 0 ... 0 0 0]\n",
      " ...\n",
      " [7 0 0 ... 0 0 0]\n",
      " [6 0 0 ... 0 0 0]\n",
      " [9 0 0 ... 0 0 0]]\n"
     ]
    }
   ],
   "source": [
    "train_data = train_df.values\n",
    "X_train = train_data[:, 1:]\n",
    "y_train = train_data[:, 0]\n",
    "print(train_data)\n",
    "\n",
    "test_data = test_df.values"
   ]
  },
  {
   "cell_type": "code",
   "execution_count": 13,
   "id": "d10c2c89",
   "metadata": {
    "execution": {
     "iopub.execute_input": "2025-02-18T21:01:18.254872Z",
     "iopub.status.busy": "2025-02-18T21:01:18.254668Z",
     "iopub.status.idle": "2025-02-18T21:01:18.279981Z",
     "shell.execute_reply": "2025-02-18T21:01:18.279264Z"
    },
    "papermill": {
     "duration": 0.032474,
     "end_time": "2025-02-18T21:01:18.281230",
     "exception": false,
     "start_time": "2025-02-18T21:01:18.248756",
     "status": "completed"
    },
    "tags": []
   },
   "outputs": [
    {
     "data": {
      "text/plain": [
       "255"
      ]
     },
     "execution_count": 13,
     "metadata": {},
     "output_type": "execute_result"
    }
   ],
   "source": [
    "X_train.max()"
   ]
  },
  {
   "cell_type": "code",
   "execution_count": 14,
   "id": "ff53561a",
   "metadata": {
    "execution": {
     "iopub.execute_input": "2025-02-18T21:01:18.293856Z",
     "iopub.status.busy": "2025-02-18T21:01:18.293617Z",
     "iopub.status.idle": "2025-02-18T21:01:18.297765Z",
     "shell.execute_reply": "2025-02-18T21:01:18.296960Z"
    },
    "papermill": {
     "duration": 0.01155,
     "end_time": "2025-02-18T21:01:18.298952",
     "exception": false,
     "start_time": "2025-02-18T21:01:18.287402",
     "status": "completed"
    },
    "tags": []
   },
   "outputs": [
    {
     "name": "stdout",
     "output_type": "stream",
     "text": [
      "(42000, 785)\n",
      "(28000, 784)\n"
     ]
    }
   ],
   "source": [
    "print(train_data.shape)\n",
    "print(test_data.shape)"
   ]
  },
  {
   "cell_type": "code",
   "execution_count": 15,
   "id": "dfb2f9fb",
   "metadata": {
    "execution": {
     "iopub.execute_input": "2025-02-18T21:01:18.310810Z",
     "iopub.status.busy": "2025-02-18T21:01:18.310574Z",
     "iopub.status.idle": "2025-02-18T21:01:18.511652Z",
     "shell.execute_reply": "2025-02-18T21:01:18.510823Z"
    },
    "papermill": {
     "duration": 0.208462,
     "end_time": "2025-02-18T21:01:18.513079",
     "exception": false,
     "start_time": "2025-02-18T21:01:18.304617",
     "status": "completed"
    },
    "tags": []
   },
   "outputs": [
    {
     "name": "stdout",
     "output_type": "stream",
     "text": [
      "(28, 28)\n"
     ]
    },
    {
     "data": {
      "image/png": "[encoded data removed]",
      "text/plain": [
       "<Figure size 640x480 with 1 Axes>"
      ]
     },
     "metadata": {},
     "output_type": "display_data"
    }
   ],
   "source": [
    "import matplotlib.pyplot as plt\n",
    "from PIL import Image\n",
    "\n",
    "ex_idx = 643\n",
    "img = X_train[ex_idx]\n",
    "img = img.reshape(28,28)\n",
    "print(img.shape)\n",
    "plt.imshow(img, cmap='gray')\n",
    "plt.show()"
   ]
  },
  {
   "cell_type": "code",
   "execution_count": 16,
   "id": "2bc3acb0",
   "metadata": {
    "execution": {
     "iopub.execute_input": "2025-02-18T21:01:18.526146Z",
     "iopub.status.busy": "2025-02-18T21:01:18.525924Z",
     "iopub.status.idle": "2025-02-18T21:01:18.530567Z",
     "shell.execute_reply": "2025-02-18T21:01:18.529757Z"
    },
    "papermill": {
     "duration": 0.012426,
     "end_time": "2025-02-18T21:01:18.531752",
     "exception": false,
     "start_time": "2025-02-18T21:01:18.519326",
     "status": "completed"
    },
    "tags": []
   },
   "outputs": [],
   "source": [
    "class MNIST(Dataset):\n",
    "    def __init__(self, x, y=None):\n",
    "        self.x = x\n",
    "        self.y = y\n",
    "    def __len__(self):\n",
    "        return len(self.x)\n",
    "    def __getitem__(self, idx):\n",
    "        image = torch.tensor(self.x[idx])\n",
    "\n",
    "        image = image/255\n",
    "        image = (image*2) - 1\n",
    "        image = image.float()\n",
    "        image = image.reshape(1,28,28)\n",
    "        if self.y is None:\n",
    "            return image\n",
    "        \n",
    "        label = torch.tensor(self.y[idx])\n",
    "        \n",
    "        return image, label"
   ]
  },
  {
   "cell_type": "code",
   "execution_count": 17,
   "id": "8d3bf4bf",
   "metadata": {
    "execution": {
     "iopub.execute_input": "2025-02-18T21:01:18.544015Z",
     "iopub.status.busy": "2025-02-18T21:01:18.543790Z",
     "iopub.status.idle": "2025-02-18T21:01:20.107252Z",
     "shell.execute_reply": "2025-02-18T21:01:20.106248Z"
    },
    "papermill": {
     "duration": 1.571459,
     "end_time": "2025-02-18T21:01:20.108993",
     "exception": false,
     "start_time": "2025-02-18T21:01:18.537534",
     "status": "completed"
    },
    "tags": []
   },
   "outputs": [],
   "source": [
    "from sklearn.model_selection import train_test_split\n",
    "\n",
    "X_train, X_val, y_train, y_val = train_test_split(X_train, y_train, test_size=0.2, random_state=42)"
   ]
  },
  {
   "cell_type": "code",
   "execution_count": 18,
   "id": "60fefe9b",
   "metadata": {
    "execution": {
     "iopub.execute_input": "2025-02-18T21:01:20.123045Z",
     "iopub.status.busy": "2025-02-18T21:01:20.122458Z",
     "iopub.status.idle": "2025-02-18T21:01:20.126581Z",
     "shell.execute_reply": "2025-02-18T21:01:20.125779Z"
    },
    "papermill": {
     "duration": 0.012287,
     "end_time": "2025-02-18T21:01:20.127864",
     "exception": false,
     "start_time": "2025-02-18T21:01:20.115577",
     "status": "completed"
    },
    "tags": []
   },
   "outputs": [],
   "source": [
    "train_dataset = MNIST(X_train, y_train)\n",
    "val_dataset = MNIST(X_val, y_val)\n",
    "test_dataset = MNIST(test_data)"
   ]
  },
  {
   "cell_type": "code",
   "execution_count": 19,
   "id": "9e3d7457",
   "metadata": {
    "execution": {
     "iopub.execute_input": "2025-02-18T21:01:20.140596Z",
     "iopub.status.busy": "2025-02-18T21:01:20.140365Z",
     "iopub.status.idle": "2025-02-18T21:01:20.155026Z",
     "shell.execute_reply": "2025-02-18T21:01:20.154356Z"
    },
    "papermill": {
     "duration": 0.02226,
     "end_time": "2025-02-18T21:01:20.156185",
     "exception": false,
     "start_time": "2025-02-18T21:01:20.133925",
     "status": "completed"
    },
    "tags": []
   },
   "outputs": [
    {
     "data": {
      "text/plain": [
       "torch.Size([1, 28, 28])"
      ]
     },
     "execution_count": 19,
     "metadata": {},
     "output_type": "execute_result"
    }
   ],
   "source": [
    "train_dataset[420][0].shape"
   ]
  },
  {
   "cell_type": "code",
   "execution_count": 20,
   "id": "61cd3d17",
   "metadata": {
    "execution": {
     "iopub.execute_input": "2025-02-18T21:01:20.169287Z",
     "iopub.status.busy": "2025-02-18T21:01:20.169014Z",
     "iopub.status.idle": "2025-02-18T21:01:20.172346Z",
     "shell.execute_reply": "2025-02-18T21:01:20.171553Z"
    },
    "papermill": {
     "duration": 0.011286,
     "end_time": "2025-02-18T21:01:20.173658",
     "exception": false,
     "start_time": "2025-02-18T21:01:20.162372",
     "status": "completed"
    },
    "tags": []
   },
   "outputs": [],
   "source": [
    "LR = 0.003\n",
    "BATCH_SIZE = 128\n",
    "EPOCHS = 20"
   ]
  },
  {
   "cell_type": "code",
   "execution_count": 21,
   "id": "443409c1",
   "metadata": {
    "execution": {
     "iopub.execute_input": "2025-02-18T21:01:20.186498Z",
     "iopub.status.busy": "2025-02-18T21:01:20.186250Z",
     "iopub.status.idle": "2025-02-18T21:01:20.189796Z",
     "shell.execute_reply": "2025-02-18T21:01:20.189180Z"
    },
    "papermill": {
     "duration": 0.011259,
     "end_time": "2025-02-18T21:01:20.190953",
     "exception": false,
     "start_time": "2025-02-18T21:01:20.179694",
     "status": "completed"
    },
    "tags": []
   },
   "outputs": [],
   "source": [
    "train_loader = DataLoader(train_dataset, batch_size=BATCH_SIZE, shuffle=True)\n",
    "val_loader = DataLoader(val_dataset, batch_size=BATCH_SIZE)"
   ]
  },
  {
   "cell_type": "markdown",
   "id": "d5c35f9b",
   "metadata": {
    "papermill": {
     "duration": 0.005872,
     "end_time": "2025-02-18T21:01:20.202893",
     "exception": false,
     "start_time": "2025-02-18T21:01:20.197021",
     "status": "completed"
    },
    "tags": []
   },
   "source": [
    "## Training"
   ]
  },
  {
   "cell_type": "code",
   "execution_count": 22,
   "id": "612db5ff",
   "metadata": {
    "execution": {
     "iopub.execute_input": "2025-02-18T21:01:20.215745Z",
     "iopub.status.busy": "2025-02-18T21:01:20.215468Z",
     "iopub.status.idle": "2025-02-18T21:01:20.269654Z",
     "shell.execute_reply": "2025-02-18T21:01:20.268861Z"
    },
    "papermill": {
     "duration": 0.062102,
     "end_time": "2025-02-18T21:01:20.270989",
     "exception": false,
     "start_time": "2025-02-18T21:01:20.208887",
     "status": "completed"
    },
    "tags": []
   },
   "outputs": [],
   "source": [
    "device = \"cuda\" if torch.cuda.is_available() else \"cpu\""
   ]
  },
  {
   "cell_type": "code",
   "execution_count": 23,
   "id": "00351199",
   "metadata": {
    "execution": {
     "iopub.execute_input": "2025-02-18T21:01:20.284562Z",
     "iopub.status.busy": "2025-02-18T21:01:20.284254Z",
     "iopub.status.idle": "2025-02-18T21:01:20.455836Z",
     "shell.execute_reply": "2025-02-18T21:01:20.455013Z"
    },
    "papermill": {
     "duration": 0.179647,
     "end_time": "2025-02-18T21:01:20.457154",
     "exception": false,
     "start_time": "2025-02-18T21:01:20.277507",
     "status": "completed"
    },
    "tags": []
   },
   "outputs": [
    {
     "data": {
      "text/plain": [
       "Decoder(\n",
       "  (fc1): Linear(in_features=4, out_features=6272, bias=True)\n",
       "  (conv1): ConvTranspose2d(128, 64, kernel_size=(2, 2), stride=(2, 2))\n",
       "  (conv2): ConvTranspose2d(64, 1, kernel_size=(2, 2), stride=(2, 2))\n",
       ")"
      ]
     },
     "execution_count": 23,
     "metadata": {},
     "output_type": "execute_result"
    }
   ],
   "source": [
    "encoder.to(device)\n",
    "decoder.to(device)"
   ]
  },
  {
   "cell_type": "code",
   "execution_count": 24,
   "id": "1280d1f9",
   "metadata": {
    "execution": {
     "iopub.execute_input": "2025-02-18T21:01:20.470444Z",
     "iopub.status.busy": "2025-02-18T21:01:20.470198Z",
     "iopub.status.idle": "2025-02-18T21:01:23.955632Z",
     "shell.execute_reply": "2025-02-18T21:01:23.954698Z"
    },
    "papermill": {
     "duration": 3.49354,
     "end_time": "2025-02-18T21:01:23.957172",
     "exception": false,
     "start_time": "2025-02-18T21:01:20.463632",
     "status": "completed"
    },
    "tags": []
   },
   "outputs": [],
   "source": [
    "params = list(encoder.parameters()) + list(decoder.parameters())\n",
    "optimizer = optim.Adam(params, lr=LR)"
   ]
  },
  {
   "cell_type": "code",
   "execution_count": 25,
   "id": "0c244620",
   "metadata": {
    "execution": {
     "iopub.execute_input": "2025-02-18T21:01:23.970959Z",
     "iopub.status.busy": "2025-02-18T21:01:23.970577Z",
     "iopub.status.idle": "2025-02-18T21:02:14.317259Z",
     "shell.execute_reply": "2025-02-18T21:02:14.316305Z"
    },
    "papermill": {
     "duration": 50.354941,
     "end_time": "2025-02-18T21:02:14.318789",
     "exception": false,
     "start_time": "2025-02-18T21:01:23.963848",
     "status": "completed"
    },
    "tags": []
   },
   "outputs": [
    {
     "data": {
      "application/vnd.jupyter.widget-view+json": {
       "model_id": "b9470a66ed5f466c83f00bf48b1d3e05",
       "version_major": 2,
       "version_minor": 0
      },
      "text/plain": [
       "  0%|          | 0/20 [00:00<?, ?it/s]"
      ]
     },
     "metadata": {},
     "output_type": "display_data"
    }
   ],
   "source": [
    "from tqdm.auto import tqdm\n",
    "\n",
    "for epoch in tqdm(range(EPOCHS)):\n",
    "    for batch in train_loader:\n",
    "    \n",
    "        images, labels = batch\n",
    "        images = images.to(device)\n",
    "        mu_logvar = encoder(images)\n",
    "        \n",
    "        mu = mu_logvar[:, :ZDIM]\n",
    "        log_var = mu_logvar[:, ZDIM:]\n",
    "        \n",
    "        var = torch.exp(log_var)\n",
    "        sigma = torch.sqrt(var)\n",
    "        epsilon = torch.randn_like(sigma)      # sigma je shape ar je device e ache, shetar alike\n",
    "        z = mu + sigma * epsilon\n",
    "        \n",
    "        pred = decoder(z)\n",
    "        \n",
    "        #    ~ Losses ~\n",
    "        # Reconstruction Loss\n",
    "        recon_loss = F.mse_loss(pred, images)*28*28\n",
    "        \n",
    "        # KL Divergence\n",
    "        kl_div = - 0.5 * torch.mean(torch.sum(1 + log_var - mu**2 - var, dim=1))\n",
    "        \n",
    "        loss = recon_loss + kl_div\n",
    "\n",
    "        optimizer.zero_grad()\n",
    "        loss.backward()\n",
    "        optimizer.step()"
   ]
  },
  {
   "cell_type": "code",
   "execution_count": null,
   "id": "b0ec6a9d",
   "metadata": {
    "papermill": {
     "duration": 0.00603,
     "end_time": "2025-02-18T21:02:14.331645",
     "exception": false,
     "start_time": "2025-02-18T21:02:14.325615",
     "status": "completed"
    },
    "tags": []
   },
   "outputs": [],
   "source": []
  },
  {
   "cell_type": "markdown",
   "id": "d6910a7e",
   "metadata": {
    "papermill": {
     "duration": 0.005878,
     "end_time": "2025-02-18T21:02:14.343682",
     "exception": false,
     "start_time": "2025-02-18T21:02:14.337804",
     "status": "completed"
    },
    "tags": []
   },
   "source": [
    "## Generation"
   ]
  },
  {
   "cell_type": "code",
   "execution_count": 26,
   "id": "7b9798e6",
   "metadata": {
    "execution": {
     "iopub.execute_input": "2025-02-18T21:02:14.357203Z",
     "iopub.status.busy": "2025-02-18T21:02:14.356857Z",
     "iopub.status.idle": "2025-02-18T21:02:14.507072Z",
     "shell.execute_reply": "2025-02-18T21:02:14.506219Z"
    },
    "papermill": {
     "duration": 0.158799,
     "end_time": "2025-02-18T21:02:14.508480",
     "exception": false,
     "start_time": "2025-02-18T21:02:14.349681",
     "status": "completed"
    },
    "tags": []
   },
   "outputs": [
    {
     "data": {
      "image/png": "[encoded data removed]",
      "text/plain": [
       "<Figure size 640x480 with 1 Axes>"
      ]
     },
     "metadata": {},
     "output_type": "display_data"
    }
   ],
   "source": [
    "latent = torch.randn(ZDIM)\n",
    "latent = torch.unsqueeze(latent, dim=0).to(device)\n",
    "\n",
    "with torch.no_grad():\n",
    "    pred = decoder(latent)\n",
    "pred = torch.squeeze(pred, dim=0).to(\"cpu\")\n",
    "plt.imshow(pred[0], cmap='gray')\n",
    "plt.show()"
   ]
  },
  {
   "cell_type": "code",
   "execution_count": null,
   "id": "ee549052",
   "metadata": {
    "papermill": {
     "duration": 0.006557,
     "end_time": "2025-02-18T21:02:14.521805",
     "exception": false,
     "start_time": "2025-02-18T21:02:14.515248",
     "status": "completed"
    },
    "tags": []
   },
   "outputs": [],
   "source": []
  },
  {
   "cell_type": "code",
   "execution_count": null,
   "id": "c3b375d6",
   "metadata": {
    "papermill": {
     "duration": 0.006314,
     "end_time": "2025-02-18T21:02:14.534709",
     "exception": false,
     "start_time": "2025-02-18T21:02:14.528395",
     "status": "completed"
    },
    "tags": []
   },
   "outputs": [],
   "source": []
  }
 ],
 "metadata": {
  "kaggle": {
   "accelerator": "gpu",
   "dataSources": [
    {
     "databundleVersionId": 861823,
     "sourceId": 3004,
     "sourceType": "competition"
    }
   ],
   "dockerImageVersionId": 30887,
   "isGpuEnabled": true,
   "isInternetEnabled": true,
   "language": "python",
   "sourceType": "notebook"
  },
  "kernelspec": {
   "display_name": "Python 3",
   "language": "python",
   "name": "python3"
  },
  "language_info": {
   "codemirror_mode": {
    "name": "ipython",
    "version": 3
   },
   "file_extension": ".py",
   "mimetype": "text/x-python",
   "name": "python",
   "nbconvert_exporter": "python",
   "pygments_lexer": "ipython3",
   "version": "3.10.12"
  },
  "papermill": {
   "default_parameters": {},
   "duration": 69.831135,
   "end_time": "2025-02-18T21:02:16.851447",
   "environment_variables": {},
   "exception": null,
   "input_path": "__notebook__.ipynb",
   "output_path": "__notebook__.ipynb",
   "parameters": {},
   "start_time": "2025-02-18T21:01:07.020312",
   "version": "2.6.0"
  },
  "widgets": {
   "application/vnd.jupyter.widget-state+json": {
    "state": {
     "01fd3571c8e14a819a833b911f4fa48c": {
      "model_module": "@jupyter-widgets/base",
      "model_module_version": "2.0.0",
      "model_name": "LayoutModel",
      "state": {
       "_model_module": "@jupyter-widgets/base",
       "_model_module_version": "2.0.0",
       "_model_name": "LayoutModel",
       "_view_count": null,
       "_view_module": "@jupyter-widgets/base",
       "_view_module_version": "2.0.0",
       "_view_name": "LayoutView",
       "align_content": null,
       "align_items": null,
       "align_self": null,
       "border_bottom": null,
       "border_left": null,
       "border_right": null,
       "border_top": null,
       "bottom": null,
       "display": null,
       "flex": null,
       "flex_flow": null,
       "grid_area": null,
       "grid_auto_columns": null,
       "grid_auto_flow": null,
       "grid_auto_rows": null,
       "grid_column": null,
       "grid_gap": null,
       "grid_row": null,
       "grid_template_areas": null,
       "grid_template_columns": null,
       "grid_template_rows": null,
       "height": null,
       "justify_content": null,
       "justify_items": null,
       "left": null,
       "margin": null,
       "max_height": null,
       "max_width": null,
       "min_height": null,
       "min_width": null,
       "object_fit": null,
       "object_position": null,
       "order": null,
       "overflow": null,
       "padding": null,
       "right": null,
       "top": null,
       "visibility": null,
       "width": null
      }
     },
     "040343c9a1034f9daa699180429cd821": {
      "model_module": "@jupyter-widgets/base",
      "model_module_version": "2.0.0",
      "model_name": "LayoutModel",
      "state": {
       "_model_module": "@jupyter-widgets/base",
       "_model_module_version": "2.0.0",
       "_model_name": "LayoutModel",
       "_view_count": null,
       "_view_module": "@jupyter-widgets/base",
       "_view_module_version": "2.0.0",
       "_view_name": "LayoutView",
       "align_content": null,
       "align_items": null,
       "align_self": null,
       "border_bottom": null,
       "border_left": null,
       "border_right": null,
       "border_top": null,
       "bottom": null,
       "display": null,
       "flex": null,
       "flex_flow": null,
       "grid_area": null,
       "grid_auto_columns": null,
       "grid_auto_flow": null,
       "grid_auto_rows": null,
       "grid_column": null,
       "grid_gap": null,
       "grid_row": null,
       "grid_template_areas": null,
       "grid_template_columns": null,
       "grid_template_rows": null,
       "height": null,
       "justify_content": null,
       "justify_items": null,
       "left": null,
       "margin": null,
       "max_height": null,
       "max_width": null,
       "min_height": null,
       "min_width": null,
       "object_fit": null,
       "object_position": null,
       "order": null,
       "overflow": null,
       "padding": null,
       "right": null,
       "top": null,
       "visibility": null,
       "width": null
      }
     },
     "08e7d54646f044428664adc8f7823b3e": {
      "model_module": "@jupyter-widgets/controls",
      "model_module_version": "2.0.0",
      "model_name": "HTMLStyleModel",
      "state": {
       "_model_module": "@jupyter-widgets/controls",
       "_model_module_version": "2.0.0",
       "_model_name": "HTMLStyleModel",
       "_view_count": null,
       "_view_module": "@jupyter-widgets/base",
       "_view_module_version": "2.0.0",
       "_view_name": "StyleView",
       "background": null,
       "description_width": "",
       "font_size": null,
       "text_color": null
      }
     },
     "11fdd4b23336448f8aaaf9dcb4f7d92e": {
      "model_module": "@jupyter-widgets/controls",
      "model_module_version": "2.0.0",
      "model_name": "HTMLStyleModel",
      "state": {
       "_model_module": "@jupyter-widgets/controls",
       "_model_module_version": "2.0.0",
       "_model_name": "HTMLStyleModel",
       "_view_count": null,
       "_view_module": "@jupyter-widgets/base",
       "_view_module_version": "2.0.0",
       "_view_name": "StyleView",
       "background": null,
       "description_width": "",
       "font_size": null,
       "text_color": null
      }
     },
     "2f649d82e2a5414491193b907efab61b": {
      "model_module": "@jupyter-widgets/base",
      "model_module_version": "2.0.0",
      "model_name": "LayoutModel",
      "state": {
       "_model_module": "@jupyter-widgets/base",
       "_model_module_version": "2.0.0",
       "_model_name": "LayoutModel",
       "_view_count": null,
       "_view_module": "@jupyter-widgets/base",
       "_view_module_version": "2.0.0",
       "_view_name": "LayoutView",
       "align_content": null,
       "align_items": null,
       "align_self": null,
       "border_bottom": null,
       "border_left": null,
       "border_right": null,
       "border_top": null,
       "bottom": null,
       "display": null,
       "flex": null,
       "flex_flow": null,
       "grid_area": null,
       "grid_auto_columns": null,
       "grid_auto_flow": null,
       "grid_auto_rows": null,
       "grid_column": null,
       "grid_gap": null,
       "grid_row": null,
       "grid_template_areas": null,
       "grid_template_columns": null,
       "grid_template_rows": null,
       "height": null,
       "justify_content": null,
       "justify_items": null,
       "left": null,
       "margin": null,
       "max_height": null,
       "max_width": null,
       "min_height": null,
       "min_width": null,
       "object_fit": null,
       "object_position": null,
       "order": null,
       "overflow": null,
       "padding": null,
       "right": null,
       "top": null,
       "visibility": null,
       "width": null
      }
     },
     "5bc06b5a7bf145e186955674e9554ffe": {
      "model_module": "@jupyter-widgets/controls",
      "model_module_version": "2.0.0",
      "model_name": "HTMLModel",
      "state": {
       "_dom_classes": [],
       "_model_module": "@jupyter-widgets/controls",
       "_model_module_version": "2.0.0",
       "_model_name": "HTMLModel",
       "_view_count": null,
       "_view_module": "@jupyter-widgets/controls",
       "_view_module_version": "2.0.0",
       "_view_name": "HTMLView",
       "description": "",
       "description_allow_html": false,
       "layout": "IPY_MODEL_040343c9a1034f9daa699180429cd821",
       "placeholder": "​",
       "style": "IPY_MODEL_11fdd4b23336448f8aaaf9dcb4f7d92e",
       "tabbable": null,
       "tooltip": null,
       "value": "100%"
      }
     },
     "7eb7cdd65d654ab090f46a225499a25c": {
      "model_module": "@jupyter-widgets/controls",
      "model_module_version": "2.0.0",
      "model_name": "ProgressStyleModel",
      "state": {
       "_model_module": "@jupyter-widgets/controls",
       "_model_module_version": "2.0.0",
       "_model_name": "ProgressStyleModel",
       "_view_count": null,
       "_view_module": "@jupyter-widgets/base",
       "_view_module_version": "2.0.0",
       "_view_name": "StyleView",
       "bar_color": null,
       "description_width": ""
      }
     },
     "b9470a66ed5f466c83f00bf48b1d3e05": {
      "model_module": "@jupyter-widgets/controls",
      "model_module_version": "2.0.0",
      "model_name": "HBoxModel",
      "state": {
       "_dom_classes": [],
       "_model_module": "@jupyter-widgets/controls",
       "_model_module_version": "2.0.0",
       "_model_name": "HBoxModel",
       "_view_count": null,
       "_view_module": "@jupyter-widgets/controls",
       "_view_module_version": "2.0.0",
       "_view_name": "HBoxView",
       "box_style": "",
       "children": [
        "IPY_MODEL_5bc06b5a7bf145e186955674e9554ffe",
        "IPY_MODEL_f3d3b043cc23490095c1ef87bb447852",
        "IPY_MODEL_e009f4987aec4eb5b9e541d033fe86b9"
       ],
       "layout": "IPY_MODEL_01fd3571c8e14a819a833b911f4fa48c",
       "tabbable": null,
       "tooltip": null
      }
     },
     "d91615495b204333933ba5a5ba45e08c": {
      "model_module": "@jupyter-widgets/base",
      "model_module_version": "2.0.0",
      "model_name": "LayoutModel",
      "state": {
       "_model_module": "@jupyter-widgets/base",
       "_model_module_version": "2.0.0",
       "_model_name": "LayoutModel",
       "_view_count": null,
       "_view_module": "@jupyter-widgets/base",
       "_view_module_version": "2.0.0",
       "_view_name": "LayoutView",
       "align_content": null,
       "align_items": null,
       "align_self": null,
       "border_bottom": null,
       "border_left": null,
       "border_right": null,
       "border_top": null,
       "bottom": null,
       "display": null,
       "flex": null,
       "flex_flow": null,
       "grid_area": null,
       "grid_auto_columns": null,
       "grid_auto_flow": null,
       "grid_auto_rows": null,
       "grid_column": null,
       "grid_gap": null,
       "grid_row": null,
       "grid_template_areas": null,
       "grid_template_columns": null,
       "grid_template_rows": null,
       "height": null,
       "justify_content": null,
       "justify_items": null,
       "left": null,
       "margin": null,
       "max_height": null,
       "max_width": null,
       "min_height": null,
       "min_width": null,
       "object_fit": null,
       "object_position": null,
       "order": null,
       "overflow": null,
       "padding": null,
       "right": null,
       "top": null,
       "visibility": null,
       "width": null
      }
     },
     "e009f4987aec4eb5b9e541d033fe86b9": {
      "model_module": "@jupyter-widgets/controls",
      "model_module_version": "2.0.0",
      "model_name": "HTMLModel",
      "state": {
       "_dom_classes": [],
       "_model_module": "@jupyter-widgets/controls",
       "_model_module_version": "2.0.0",
       "_model_name": "HTMLModel",
       "_view_count": null,
       "_view_module": "@jupyter-widgets/controls",
       "_view_module_version": "2.0.0",
       "_view_name": "HTMLView",
       "description": "",
       "description_allow_html": false,
       "layout": "IPY_MODEL_d91615495b204333933ba5a5ba45e08c",
       "placeholder": "​",
       "style": "IPY_MODEL_08e7d54646f044428664adc8f7823b3e",
       "tabbable": null,
       "tooltip": null,
       "value": " 20/20 [00:50&lt;00:00,  2.48s/it]"
      }
     },
     "f3d3b043cc23490095c1ef87bb447852": {
      "model_module": "@jupyter-widgets/controls",
      "model_module_version": "2.0.0",
      "model_name": "FloatProgressModel",
      "state": {
       "_dom_classes": [],
       "_model_module": "@jupyter-widgets/controls",
       "_model_module_version": "2.0.0",
       "_model_name": "FloatProgressModel",
       "_view_count": null,
       "_view_module": "@jupyter-widgets/controls",
       "_view_module_version": "2.0.0",
       "_view_name": "ProgressView",
       "bar_style": "success",
       "description": "",
       "description_allow_html": false,
       "layout": "IPY_MODEL_2f649d82e2a5414491193b907efab61b",
       "max": 20.0,
       "min": 0.0,
       "orientation": "horizontal",
       "style": "IPY_MODEL_7eb7cdd65d654ab090f46a225499a25c",
       "tabbable": null,
       "tooltip": null,
       "value": 20.0
      }
     }
    },
    "version_major": 2,
    "version_minor": 0
   }
  }
 },
 "nbformat": 4,
 "nbformat_minor": 5
}
