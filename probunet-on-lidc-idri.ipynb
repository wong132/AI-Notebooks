{
 "cells": [
  {
   "cell_type": "code",
   "execution_count": 1,
   "id": "f765fa1e",
   "metadata": {
    "execution": {
     "iopub.execute_input": "2025-02-24T21:50:23.974537Z",
     "iopub.status.busy": "2025-02-24T21:50:23.974236Z",
     "iopub.status.idle": "2025-02-24T21:50:23.978870Z",
     "shell.execute_reply": "2025-02-24T21:50:23.978169Z"
    },
    "papermill": {
     "duration": 0.015968,
     "end_time": "2025-02-24T21:50:23.980008",
     "exception": false,
     "start_time": "2025-02-24T21:50:23.964040",
     "status": "completed"
    },
    "tags": []
   },
   "outputs": [],
   "source": [
    "import numpy as np\n",
    "import os"
   ]
  },
  {
   "cell_type": "markdown",
   "id": "bacf8faa",
   "metadata": {
    "papermill": {
     "duration": 0.007778,
     "end_time": "2025-02-24T21:50:23.995886",
     "exception": false,
     "start_time": "2025-02-24T21:50:23.988108",
     "status": "completed"
    },
    "tags": []
   },
   "source": [
    "## Loading Images and GT Masks"
   ]
  },
  {
   "cell_type": "code",
   "execution_count": 2,
   "id": "e22e7ba6",
   "metadata": {
    "execution": {
     "iopub.execute_input": "2025-02-24T21:50:24.012735Z",
     "iopub.status.busy": "2025-02-24T21:50:24.012518Z",
     "iopub.status.idle": "2025-02-24T21:50:24.015466Z",
     "shell.execute_reply": "2025-02-24T21:50:24.014902Z"
    },
    "papermill": {
     "duration": 0.012772,
     "end_time": "2025-02-24T21:50:24.016661",
     "exception": false,
     "start_time": "2025-02-24T21:50:24.003889",
     "status": "completed"
    },
    "tags": []
   },
   "outputs": [],
   "source": [
    "train_path = \"/kaggle/input/lidc-hpunet/train\"\n",
    "val_path = \"/kaggle/input/lidc-hpunet/val\"\n",
    "test_path = \"/kaggle/input/lidc-hpunet/test\""
   ]
  },
  {
   "cell_type": "code",
   "execution_count": 3,
   "id": "3b45331d",
   "metadata": {
    "execution": {
     "iopub.execute_input": "2025-02-24T21:50:24.033759Z",
     "iopub.status.busy": "2025-02-24T21:50:24.033538Z",
     "iopub.status.idle": "2025-02-24T21:50:36.852170Z",
     "shell.execute_reply": "2025-02-24T21:50:36.851514Z"
    },
    "papermill": {
     "duration": 12.828791,
     "end_time": "2025-02-24T21:50:36.853713",
     "exception": false,
     "start_time": "2025-02-24T21:50:24.024922",
     "status": "completed"
    },
    "tags": []
   },
   "outputs": [],
   "source": [
    "data_paths = {}\n",
    "\n",
    "for split in [\"train\", \"val\", \"test\"]:\n",
    "    # Loading images\n",
    "    image_dir = f\"/kaggle/input/lidc-hpunet/{split}/images\"\n",
    "    nodules = sorted(os.listdir(image_dir))\n",
    "    \n",
    "    nodule_paths = []\n",
    "    image_paths = []\n",
    "    \n",
    "    for nodule in nodules:\n",
    "        nodule_paths.append(os.path.join(image_dir, nodule))\n",
    "    for nod_path in nodule_paths:\n",
    "        images = sorted(os.listdir(nod_path))\n",
    "        for img in images:\n",
    "            image_paths.append(os.path.join(nod_path, img))\n",
    "\n",
    "    # Loading masks\n",
    "    gt_dir = f\"/kaggle/input/lidc-hpunet/{split}/gt\"\n",
    "    \n",
    "    nodules = sorted(os.listdir(gt_dir))\n",
    "    nodule_paths = []\n",
    "    gt_paths = []\n",
    "    \n",
    "    for nodule in nodules:\n",
    "        nodule_paths.append(os.path.join(gt_dir, nodule))\n",
    "        \n",
    "    for nod_path in nodule_paths:\n",
    "        gts = sorted(os.listdir(nod_path))\n",
    "        for gt in gts:\n",
    "            gt_paths.append(os.path.join(nod_path, gt))\n",
    "\n",
    "    rows = len(image_paths)\n",
    "    columns = 4\n",
    "    gt_arranged_paths = [gt_paths[i * columns : (i+1) * columns] for i in range(rows)]\n",
    "\n",
    "    data_paths[split] = {\"image_paths\": image_paths, \"gt_paths\": gt_arranged_paths}\n",
    "    "
   ]
  },
  {
   "cell_type": "code",
   "execution_count": 4,
   "id": "859fb808",
   "metadata": {
    "execution": {
     "iopub.execute_input": "2025-02-24T21:50:36.870370Z",
     "iopub.status.busy": "2025-02-24T21:50:36.870160Z",
     "iopub.status.idle": "2025-02-24T21:50:36.873142Z",
     "shell.execute_reply": "2025-02-24T21:50:36.872521Z"
    },
    "papermill": {
     "duration": 0.012408,
     "end_time": "2025-02-24T21:50:36.874318",
     "exception": false,
     "start_time": "2025-02-24T21:50:36.861910",
     "status": "completed"
    },
    "tags": []
   },
   "outputs": [],
   "source": [
    "train_paths = data_paths[\"train\"]\n",
    "train_image_paths = train_paths[\"image_paths\"]\n",
    "train_gt_paths = train_paths[\"gt_paths\"]"
   ]
  },
  {
   "cell_type": "code",
   "execution_count": 5,
   "id": "63fa927e",
   "metadata": {
    "execution": {
     "iopub.execute_input": "2025-02-24T21:50:36.890486Z",
     "iopub.status.busy": "2025-02-24T21:50:36.890286Z",
     "iopub.status.idle": "2025-02-24T21:50:36.893441Z",
     "shell.execute_reply": "2025-02-24T21:50:36.892661Z"
    },
    "papermill": {
     "duration": 0.012468,
     "end_time": "2025-02-24T21:50:36.894660",
     "exception": false,
     "start_time": "2025-02-24T21:50:36.882192",
     "status": "completed"
    },
    "tags": []
   },
   "outputs": [],
   "source": [
    "val_paths = data_paths[\"val\"]\n",
    "val_image_paths = val_paths[\"image_paths\"]\n",
    "val_gt_paths = val_paths[\"gt_paths\"]"
   ]
  },
  {
   "cell_type": "code",
   "execution_count": 6,
   "id": "a72ec0c0",
   "metadata": {
    "execution": {
     "iopub.execute_input": "2025-02-24T21:50:36.911019Z",
     "iopub.status.busy": "2025-02-24T21:50:36.910800Z",
     "iopub.status.idle": "2025-02-24T21:50:36.913814Z",
     "shell.execute_reply": "2025-02-24T21:50:36.913195Z"
    },
    "papermill": {
     "duration": 0.012473,
     "end_time": "2025-02-24T21:50:36.914892",
     "exception": false,
     "start_time": "2025-02-24T21:50:36.902419",
     "status": "completed"
    },
    "tags": []
   },
   "outputs": [],
   "source": [
    "test_paths = data_paths[\"test\"]\n",
    "test_image_paths = test_paths[\"image_paths\"]\n",
    "test_gt_paths = test_paths[\"gt_paths\"]"
   ]
  },
  {
   "cell_type": "code",
   "execution_count": 7,
   "id": "975653ab",
   "metadata": {
    "execution": {
     "iopub.execute_input": "2025-02-24T21:50:36.930825Z",
     "iopub.status.busy": "2025-02-24T21:50:36.930607Z",
     "iopub.status.idle": "2025-02-24T21:50:36.934690Z",
     "shell.execute_reply": "2025-02-24T21:50:36.934017Z"
    },
    "papermill": {
     "duration": 0.013525,
     "end_time": "2025-02-24T21:50:36.936008",
     "exception": false,
     "start_time": "2025-02-24T21:50:36.922483",
     "status": "completed"
    },
    "tags": []
   },
   "outputs": [
    {
     "name": "stdout",
     "output_type": "stream",
     "text": [
      "8843\n",
      "8843\n"
     ]
    }
   ],
   "source": [
    "print(len(train_image_paths))\n",
    "print(len(train_gt_paths))"
   ]
  },
  {
   "cell_type": "code",
   "execution_count": 8,
   "id": "8c751282",
   "metadata": {
    "execution": {
     "iopub.execute_input": "2025-02-24T21:50:36.952632Z",
     "iopub.status.busy": "2025-02-24T21:50:36.952416Z",
     "iopub.status.idle": "2025-02-24T21:50:36.956386Z",
     "shell.execute_reply": "2025-02-24T21:50:36.955622Z"
    },
    "papermill": {
     "duration": 0.013556,
     "end_time": "2025-02-24T21:50:36.957598",
     "exception": false,
     "start_time": "2025-02-24T21:50:36.944042",
     "status": "completed"
    },
    "tags": []
   },
   "outputs": [
    {
     "name": "stdout",
     "output_type": "stream",
     "text": [
      "1993\n",
      "1993\n"
     ]
    }
   ],
   "source": [
    "print(len(val_image_paths))\n",
    "print(len(val_gt_paths))"
   ]
  },
  {
   "cell_type": "code",
   "execution_count": 9,
   "id": "5cd3c3bd",
   "metadata": {
    "execution": {
     "iopub.execute_input": "2025-02-24T21:50:36.973585Z",
     "iopub.status.busy": "2025-02-24T21:50:36.973370Z",
     "iopub.status.idle": "2025-02-24T21:50:36.977436Z",
     "shell.execute_reply": "2025-02-24T21:50:36.976576Z"
    },
    "papermill": {
     "duration": 0.01339,
     "end_time": "2025-02-24T21:50:36.978676",
     "exception": false,
     "start_time": "2025-02-24T21:50:36.965286",
     "status": "completed"
    },
    "tags": []
   },
   "outputs": [
    {
     "name": "stdout",
     "output_type": "stream",
     "text": [
      "1980\n",
      "1980\n"
     ]
    }
   ],
   "source": [
    "print(len(test_image_paths))\n",
    "print(len(test_gt_paths))"
   ]
  },
  {
   "cell_type": "code",
   "execution_count": 10,
   "id": "98c99e98",
   "metadata": {
    "execution": {
     "iopub.execute_input": "2025-02-24T21:50:36.994955Z",
     "iopub.status.busy": "2025-02-24T21:50:36.994721Z",
     "iopub.status.idle": "2025-02-24T21:50:36.999541Z",
     "shell.execute_reply": "2025-02-24T21:50:36.998920Z"
    },
    "papermill": {
     "duration": 0.014139,
     "end_time": "2025-02-24T21:50:37.000699",
     "exception": false,
     "start_time": "2025-02-24T21:50:36.986560",
     "status": "completed"
    },
    "tags": []
   },
   "outputs": [
    {
     "data": {
      "text/plain": [
       "['/kaggle/input/lidc-hpunet/train/gt/LIDC-IDRI-0001/z-105.0_c0_l0.png',\n",
       " '/kaggle/input/lidc-hpunet/train/gt/LIDC-IDRI-0001/z-105.0_c0_l1.png',\n",
       " '/kaggle/input/lidc-hpunet/train/gt/LIDC-IDRI-0001/z-105.0_c0_l2.png',\n",
       " '/kaggle/input/lidc-hpunet/train/gt/LIDC-IDRI-0001/z-105.0_c0_l3.png']"
      ]
     },
     "execution_count": 10,
     "metadata": {},
     "output_type": "execute_result"
    }
   ],
   "source": [
    "train_gt_paths[0]"
   ]
  },
  {
   "cell_type": "code",
   "execution_count": 11,
   "id": "7170d40c",
   "metadata": {
    "execution": {
     "iopub.execute_input": "2025-02-24T21:50:37.017351Z",
     "iopub.status.busy": "2025-02-24T21:50:37.017132Z",
     "iopub.status.idle": "2025-02-24T21:50:37.021440Z",
     "shell.execute_reply": "2025-02-24T21:50:37.020660Z"
    },
    "papermill": {
     "duration": 0.013976,
     "end_time": "2025-02-24T21:50:37.022605",
     "exception": false,
     "start_time": "2025-02-24T21:50:37.008629",
     "status": "completed"
    },
    "tags": []
   },
   "outputs": [
    {
     "data": {
      "text/plain": [
       "'/kaggle/input/lidc-hpunet/train/images/LIDC-IDRI-0001/z-105.0_c0.png'"
      ]
     },
     "execution_count": 11,
     "metadata": {},
     "output_type": "execute_result"
    }
   ],
   "source": [
    "train_image_paths[0]"
   ]
  },
  {
   "cell_type": "code",
   "execution_count": 12,
   "id": "f569fec4",
   "metadata": {
    "execution": {
     "iopub.execute_input": "2025-02-24T21:50:37.039912Z",
     "iopub.status.busy": "2025-02-24T21:50:37.039642Z",
     "iopub.status.idle": "2025-02-24T21:50:37.044241Z",
     "shell.execute_reply": "2025-02-24T21:50:37.043439Z"
    },
    "papermill": {
     "duration": 0.014417,
     "end_time": "2025-02-24T21:50:37.045415",
     "exception": false,
     "start_time": "2025-02-24T21:50:37.030998",
     "status": "completed"
    },
    "tags": []
   },
   "outputs": [
    {
     "data": {
      "text/plain": [
       "list"
      ]
     },
     "execution_count": 12,
     "metadata": {},
     "output_type": "execute_result"
    }
   ],
   "source": [
    "type(train_gt_paths)"
   ]
  },
  {
   "cell_type": "markdown",
   "id": "c7d04cf4",
   "metadata": {
    "papermill": {
     "duration": 0.007901,
     "end_time": "2025-02-24T21:50:37.061392",
     "exception": false,
     "start_time": "2025-02-24T21:50:37.053491",
     "status": "completed"
    },
    "tags": []
   },
   "source": [
    "## Libraries"
   ]
  },
  {
   "cell_type": "code",
   "execution_count": 13,
   "id": "050739af",
   "metadata": {
    "execution": {
     "iopub.execute_input": "2025-02-24T21:50:37.078420Z",
     "iopub.status.busy": "2025-02-24T21:50:37.078208Z",
     "iopub.status.idle": "2025-02-24T21:50:46.354374Z",
     "shell.execute_reply": "2025-02-24T21:50:46.353429Z"
    },
    "papermill": {
     "duration": 9.286394,
     "end_time": "2025-02-24T21:50:46.355853",
     "exception": false,
     "start_time": "2025-02-24T21:50:37.069459",
     "status": "completed"
    },
    "tags": []
   },
   "outputs": [
    {
     "name": "stderr",
     "output_type": "stream",
     "text": [
      "/usr/local/lib/python3.10/dist-packages/albumentations/__init__.py:24: UserWarning: A new version of Albumentations is available: 2.0.4 (you have 1.4.20). Upgrade using: pip install -U albumentations. To disable automatic update checks, set the environment variable NO_ALBUMENTATIONS_UPDATE to 1.\n",
      "  check_for_updates()\n"
     ]
    }
   ],
   "source": [
    "from PIL import Image\n",
    "import matplotlib.pyplot as plt\n",
    "from torch.utils.data import Dataset, DataLoader\n",
    "from torchvision import transforms\n",
    "import albumentations as A\n",
    "from albumentations.pytorch import ToTensorV2\n",
    "import torch\n",
    "import torch.nn as nn\n",
    "import torch.nn.functional as F\n",
    "import torch.optim as optim"
   ]
  },
  {
   "cell_type": "markdown",
   "id": "b768bd11",
   "metadata": {
    "papermill": {
     "duration": 0.007947,
     "end_time": "2025-02-24T21:50:46.372811",
     "exception": false,
     "start_time": "2025-02-24T21:50:46.364864",
     "status": "completed"
    },
    "tags": []
   },
   "source": [
    "## Plotting the Image and GT Masks"
   ]
  },
  {
   "cell_type": "code",
   "execution_count": 14,
   "id": "671df397",
   "metadata": {
    "execution": {
     "iopub.execute_input": "2025-02-24T21:50:46.390071Z",
     "iopub.status.busy": "2025-02-24T21:50:46.389672Z",
     "iopub.status.idle": "2025-02-24T21:50:47.176725Z",
     "shell.execute_reply": "2025-02-24T21:50:47.175855Z"
    },
    "papermill": {
     "duration": 0.797333,
     "end_time": "2025-02-24T21:50:47.178306",
     "exception": false,
     "start_time": "2025-02-24T21:50:46.380973",
     "status": "completed"
    },
    "tags": []
   },
   "outputs": [
    {
     "data": {
      "image/png": "[encoded data removed]",
      "text/plain": [
       "<Figure size 640x480 with 1 Axes>"
      ]
     },
     "metadata": {},
     "output_type": "display_data"
    },
    {
     "data": {
      "image/png": "[encoded data removed]",
      "text/plain": [
       "<Figure size 1500x500 with 4 Axes>"
      ]
     },
     "metadata": {},
     "output_type": "display_data"
    }
   ],
   "source": [
    "ex_idx = 196\n",
    "\n",
    "ex_img_path = train_image_paths[ex_idx]\n",
    "ex_gt_paths = train_gt_paths[ex_idx]\n",
    "\n",
    "img = Image.open(ex_img_path)\n",
    "plt.imshow(img, cmap='gray')\n",
    "plt.show()\n",
    "\n",
    "fig, axes = plt.subplots(1, 4, figsize=(15,5))\n",
    "idx = 0\n",
    "for ex_gt_path in ex_gt_paths:\n",
    "    gt = Image.open(ex_gt_path)\n",
    "    axes[idx].imshow(gt, cmap='gray')\n",
    "    idx = idx+1\n",
    "plt.show()"
   ]
  },
  {
   "cell_type": "code",
   "execution_count": 15,
   "id": "a5e632b0",
   "metadata": {
    "execution": {
     "iopub.execute_input": "2025-02-24T21:50:47.202996Z",
     "iopub.status.busy": "2025-02-24T21:50:47.202706Z",
     "iopub.status.idle": "2025-02-24T21:50:47.207042Z",
     "shell.execute_reply": "2025-02-24T21:50:47.205982Z"
    },
    "papermill": {
     "duration": 0.016282,
     "end_time": "2025-02-24T21:50:47.208455",
     "exception": false,
     "start_time": "2025-02-24T21:50:47.192173",
     "status": "completed"
    },
    "tags": []
   },
   "outputs": [
    {
     "name": "stdout",
     "output_type": "stream",
     "text": [
      "Height and Width of Image is (180, 180)\n",
      "Height and Width of GT mask is (180, 180)\n"
     ]
    }
   ],
   "source": [
    "print(f\"Height and Width of Image is {img.size}\")\n",
    "print(f\"Height and Width of GT mask is {gt.size}\")"
   ]
  },
  {
   "cell_type": "code",
   "execution_count": 16,
   "id": "b31b7b33",
   "metadata": {
    "execution": {
     "iopub.execute_input": "2025-02-24T21:50:47.229639Z",
     "iopub.status.busy": "2025-02-24T21:50:47.229356Z",
     "iopub.status.idle": "2025-02-24T21:50:47.235276Z",
     "shell.execute_reply": "2025-02-24T21:50:47.234148Z"
    },
    "papermill": {
     "duration": 0.018524,
     "end_time": "2025-02-24T21:50:47.237138",
     "exception": false,
     "start_time": "2025-02-24T21:50:47.218614",
     "status": "completed"
    },
    "tags": []
   },
   "outputs": [
    {
     "data": {
      "text/plain": [
       "'L'"
      ]
     },
     "execution_count": 16,
     "metadata": {},
     "output_type": "execute_result"
    }
   ],
   "source": [
    "img.mode          # image mode L means it's a grayscale image. channel = 1"
   ]
  },
  {
   "cell_type": "code",
   "execution_count": 17,
   "id": "52072bbb",
   "metadata": {
    "execution": {
     "iopub.execute_input": "2025-02-24T21:50:47.264314Z",
     "iopub.status.busy": "2025-02-24T21:50:47.263962Z",
     "iopub.status.idle": "2025-02-24T21:50:47.270016Z",
     "shell.execute_reply": "2025-02-24T21:50:47.268857Z"
    },
    "papermill": {
     "duration": 0.0195,
     "end_time": "2025-02-24T21:50:47.271743",
     "exception": false,
     "start_time": "2025-02-24T21:50:47.252243",
     "status": "completed"
    },
    "tags": []
   },
   "outputs": [
    {
     "data": {
      "text/plain": [
       "'L'"
      ]
     },
     "execution_count": 17,
     "metadata": {},
     "output_type": "execute_result"
    }
   ],
   "source": [
    "gt.mode"
   ]
  },
  {
   "cell_type": "markdown",
   "id": "c8f204e1",
   "metadata": {
    "papermill": {
     "duration": 0.014991,
     "end_time": "2025-02-24T21:50:47.298755",
     "exception": false,
     "start_time": "2025-02-24T21:50:47.283764",
     "status": "completed"
    },
    "tags": []
   },
   "source": [
    "## Preprocess"
   ]
  },
  {
   "cell_type": "code",
   "execution_count": 18,
   "id": "bdce673a",
   "metadata": {
    "execution": {
     "iopub.execute_input": "2025-02-24T21:50:47.325409Z",
     "iopub.status.busy": "2025-02-24T21:50:47.325149Z",
     "iopub.status.idle": "2025-02-24T21:50:47.335863Z",
     "shell.execute_reply": "2025-02-24T21:50:47.334757Z"
    },
    "papermill": {
     "duration": 0.023107,
     "end_time": "2025-02-24T21:50:47.337158",
     "exception": false,
     "start_time": "2025-02-24T21:50:47.314051",
     "status": "completed"
    },
    "tags": []
   },
   "outputs": [
    {
     "name": "stderr",
     "output_type": "stream",
     "text": [
      "<ipython-input-18-ac00e53e810a>:9: UserWarning: Argument 'alpha_affine' is not valid and will be ignored.\n",
      "  A.ElasticTransform(alpha=120, sigma=120 * 0.05, alpha_affine=120 * 0.03, p=0.5),\n"
     ]
    }
   ],
   "source": [
    "train_preprocess = A.Compose([\n",
    "    A.RandomCrop(width=128, height=128),\n",
    "    A.OneOf([\n",
    "        A.HorizontalFlip(p=0.3),\n",
    "        A.VerticalFlip(p=0.2)\n",
    "    ]),\n",
    "    A.RandomBrightnessContrast(p=0.2),\n",
    "    A.OneOf([\n",
    "        A.ElasticTransform(alpha=120, sigma=120 * 0.05, alpha_affine=120 * 0.03, p=0.5),\n",
    "        A.GridDistortion(p=0.5),\n",
    "        A.OpticalDistortion(distort_limit=2, shift_limit=0.5, p=1)\n",
    "    ], p=0.8),\n",
    "    A.Normalize(mean=[0.485, 0.456, 0.406], std=[0.229, 0.224, 0.225]),\n",
    "    ToTensorV2()\n",
    "])"
   ]
  },
  {
   "cell_type": "code",
   "execution_count": 19,
   "id": "5bdf90f4",
   "metadata": {
    "execution": {
     "iopub.execute_input": "2025-02-24T21:50:47.357969Z",
     "iopub.status.busy": "2025-02-24T21:50:47.357724Z",
     "iopub.status.idle": "2025-02-24T21:50:47.361581Z",
     "shell.execute_reply": "2025-02-24T21:50:47.360950Z"
    },
    "papermill": {
     "duration": 0.015455,
     "end_time": "2025-02-24T21:50:47.362765",
     "exception": false,
     "start_time": "2025-02-24T21:50:47.347310",
     "status": "completed"
    },
    "tags": []
   },
   "outputs": [],
   "source": [
    "preprocess = A.Compose([\n",
    "    A.RandomCrop(width=128, height=128),\n",
    "    A.Normalize(mean=[0.485, 0.456, 0.406], std=[0.229, 0.224, 0.225]),\n",
    "    ToTensorV2()\n",
    "])"
   ]
  },
  {
   "cell_type": "markdown",
   "id": "ede58a5d",
   "metadata": {
    "papermill": {
     "duration": 0.009789,
     "end_time": "2025-02-24T21:50:47.382751",
     "exception": false,
     "start_time": "2025-02-24T21:50:47.372962",
     "status": "completed"
    },
    "tags": []
   },
   "source": [
    "## Dataset Dataloader"
   ]
  },
  {
   "cell_type": "code",
   "execution_count": 20,
   "id": "ceb1b59e",
   "metadata": {
    "execution": {
     "iopub.execute_input": "2025-02-24T21:50:47.403819Z",
     "iopub.status.busy": "2025-02-24T21:50:47.403600Z",
     "iopub.status.idle": "2025-02-24T21:50:47.408714Z",
     "shell.execute_reply": "2025-02-24T21:50:47.408093Z"
    },
    "papermill": {
     "duration": 0.016867,
     "end_time": "2025-02-24T21:50:47.409812",
     "exception": false,
     "start_time": "2025-02-24T21:50:47.392945",
     "status": "completed"
    },
    "tags": []
   },
   "outputs": [],
   "source": [
    "class LIDCsegment(Dataset):\n",
    "    def __init__(self, image, transform, gt=None):\n",
    "        self.image = image\n",
    "        self.gt = gt\n",
    "        self.transform = transform\n",
    "    def __len__(self):\n",
    "        return len(self.image)\n",
    "    def __getitem__(self, idx):\n",
    "        image = Image.open(self.image[idx])\n",
    "        image = np.array(image)\n",
    "        \n",
    "        if self.gt is not None:\n",
    "            gt_idx = torch.randint(0, 4, (1,)).item()\n",
    "            gt_mask = Image.open(self.gt[idx][gt_idx])\n",
    "            gt_mask = np.array(gt_mask)\n",
    "            \n",
    "            transformed = self.transform(image=image, mask=gt_mask)\n",
    "            transformed_img = transformed[\"image\"]\n",
    "            transformed_mask = transformed[\"mask\"]\n",
    "\n",
    "            transformed_mask = torch.unsqueeze(transformed_mask, dim=0)\n",
    "            return transformed_img, transformed_mask\n",
    "            \n",
    "        else:\n",
    "            transformed = self.transform(image=image)\n",
    "            transformed_img = transformed[\"image\"]\n",
    "            return transformed_img"
   ]
  },
  {
   "cell_type": "code",
   "execution_count": 21,
   "id": "7f68ba7f",
   "metadata": {
    "execution": {
     "iopub.execute_input": "2025-02-24T21:50:47.430872Z",
     "iopub.status.busy": "2025-02-24T21:50:47.430629Z",
     "iopub.status.idle": "2025-02-24T21:50:47.434100Z",
     "shell.execute_reply": "2025-02-24T21:50:47.433430Z"
    },
    "papermill": {
     "duration": 0.01529,
     "end_time": "2025-02-24T21:50:47.435270",
     "exception": false,
     "start_time": "2025-02-24T21:50:47.419980",
     "status": "completed"
    },
    "tags": []
   },
   "outputs": [],
   "source": [
    "train_dataset = LIDCsegment(image=train_image_paths, transform=train_preprocess, gt=train_gt_paths)\n",
    "val_dataset = LIDCsegment(image=val_image_paths, transform=preprocess)\n",
    "test_dataset = LIDCsegment(image=test_image_paths, transform=preprocess)"
   ]
  },
  {
   "cell_type": "markdown",
   "id": "46c358fe",
   "metadata": {
    "papermill": {
     "duration": 0.009853,
     "end_time": "2025-02-24T21:50:47.455039",
     "exception": false,
     "start_time": "2025-02-24T21:50:47.445186",
     "status": "completed"
    },
    "tags": []
   },
   "source": [
    "### Hyperparameters"
   ]
  },
  {
   "cell_type": "code",
   "execution_count": 22,
   "id": "366c539f",
   "metadata": {
    "execution": {
     "iopub.execute_input": "2025-02-24T21:50:47.476611Z",
     "iopub.status.busy": "2025-02-24T21:50:47.476395Z",
     "iopub.status.idle": "2025-02-24T21:50:47.479449Z",
     "shell.execute_reply": "2025-02-24T21:50:47.478827Z"
    },
    "papermill": {
     "duration": 0.015438,
     "end_time": "2025-02-24T21:50:47.480655",
     "exception": false,
     "start_time": "2025-02-24T21:50:47.465217",
     "status": "completed"
    },
    "tags": []
   },
   "outputs": [],
   "source": [
    "BATCH_SIZE = 32\n",
    "EPOCHS = 10\n",
    "LR = 0.001"
   ]
  },
  {
   "cell_type": "code",
   "execution_count": 23,
   "id": "7c84015c",
   "metadata": {
    "execution": {
     "iopub.execute_input": "2025-02-24T21:50:47.501702Z",
     "iopub.status.busy": "2025-02-24T21:50:47.501501Z",
     "iopub.status.idle": "2025-02-24T21:50:47.505085Z",
     "shell.execute_reply": "2025-02-24T21:50:47.504485Z"
    },
    "papermill": {
     "duration": 0.015478,
     "end_time": "2025-02-24T21:50:47.506204",
     "exception": false,
     "start_time": "2025-02-24T21:50:47.490726",
     "status": "completed"
    },
    "tags": []
   },
   "outputs": [],
   "source": [
    "train_loader = DataLoader(train_dataset, batch_size=BATCH_SIZE, shuffle=True)\n",
    "val_loader = DataLoader(val_dataset, batch_size=BATCH_SIZE, shuffle=False)\n",
    "test_loader = DataLoader(test_dataset, batch_size=BATCH_SIZE, shuffle=False)"
   ]
  },
  {
   "cell_type": "code",
   "execution_count": 24,
   "id": "b008d25b",
   "metadata": {
    "execution": {
     "iopub.execute_input": "2025-02-24T21:50:47.527777Z",
     "iopub.status.busy": "2025-02-24T21:50:47.527562Z",
     "iopub.status.idle": "2025-02-24T21:50:47.583088Z",
     "shell.execute_reply": "2025-02-24T21:50:47.582266Z"
    },
    "papermill": {
     "duration": 0.067807,
     "end_time": "2025-02-24T21:50:47.584404",
     "exception": false,
     "start_time": "2025-02-24T21:50:47.516597",
     "status": "completed"
    },
    "tags": []
   },
   "outputs": [],
   "source": [
    "device = \"cuda\" if torch.cuda.is_available() else \"cpu\""
   ]
  },
  {
   "cell_type": "code",
   "execution_count": 25,
   "id": "71390d43",
   "metadata": {
    "execution": {
     "iopub.execute_input": "2025-02-24T21:50:47.606430Z",
     "iopub.status.busy": "2025-02-24T21:50:47.606213Z",
     "iopub.status.idle": "2025-02-24T21:50:48.234922Z",
     "shell.execute_reply": "2025-02-24T21:50:48.234208Z"
    },
    "papermill": {
     "duration": 0.641217,
     "end_time": "2025-02-24T21:50:48.236441",
     "exception": false,
     "start_time": "2025-02-24T21:50:47.595224",
     "status": "completed"
    },
    "tags": []
   },
   "outputs": [],
   "source": [
    "image, mask = next(iter(train_loader))"
   ]
  },
  {
   "cell_type": "code",
   "execution_count": 26,
   "id": "342b06b2",
   "metadata": {
    "execution": {
     "iopub.execute_input": "2025-02-24T21:50:48.258677Z",
     "iopub.status.busy": "2025-02-24T21:50:48.258444Z",
     "iopub.status.idle": "2025-02-24T21:50:48.263403Z",
     "shell.execute_reply": "2025-02-24T21:50:48.262735Z"
    },
    "papermill": {
     "duration": 0.017636,
     "end_time": "2025-02-24T21:50:48.264648",
     "exception": false,
     "start_time": "2025-02-24T21:50:48.247012",
     "status": "completed"
    },
    "tags": []
   },
   "outputs": [
    {
     "name": "stdout",
     "output_type": "stream",
     "text": [
      "32\n",
      "<class 'torch.Tensor'>\n",
      "torch.Size([32, 1, 128, 128])\n",
      "void\n",
      "32\n",
      "<class 'torch.Tensor'>\n",
      "torch.Size([32, 1, 128, 128])\n"
     ]
    }
   ],
   "source": [
    "print(len(image))\n",
    "print(type(image))\n",
    "print(image.shape)\n",
    "print(\"void\")\n",
    "print(len(mask))\n",
    "print(type(mask))\n",
    "print(mask.shape)"
   ]
  },
  {
   "cell_type": "code",
   "execution_count": 27,
   "id": "3b8ce2dd",
   "metadata": {
    "execution": {
     "iopub.execute_input": "2025-02-24T21:50:48.285691Z",
     "iopub.status.busy": "2025-02-24T21:50:48.285461Z",
     "iopub.status.idle": "2025-02-24T21:50:48.293470Z",
     "shell.execute_reply": "2025-02-24T21:50:48.292524Z"
    },
    "papermill": {
     "duration": 0.019832,
     "end_time": "2025-02-24T21:50:48.294655",
     "exception": false,
     "start_time": "2025-02-24T21:50:48.274823",
     "status": "completed"
    },
    "tags": []
   },
   "outputs": [
    {
     "data": {
      "text/plain": [
       "torch.Size([1, 128, 128])"
      ]
     },
     "execution_count": 27,
     "metadata": {},
     "output_type": "execute_result"
    }
   ],
   "source": [
    "mask[0].shape"
   ]
  },
  {
   "cell_type": "markdown",
   "id": "ece01027",
   "metadata": {
    "papermill": {
     "duration": 0.009944,
     "end_time": "2025-02-24T21:50:48.315088",
     "exception": false,
     "start_time": "2025-02-24T21:50:48.305144",
     "status": "completed"
    },
    "tags": []
   },
   "source": [
    "# ProbUNET"
   ]
  },
  {
   "cell_type": "code",
   "execution_count": 28,
   "id": "6084364e",
   "metadata": {
    "execution": {
     "iopub.execute_input": "2025-02-24T21:50:48.337221Z",
     "iopub.status.busy": "2025-02-24T21:50:48.336984Z",
     "iopub.status.idle": "2025-02-24T21:50:48.340166Z",
     "shell.execute_reply": "2025-02-24T21:50:48.339351Z"
    },
    "papermill": {
     "duration": 0.015226,
     "end_time": "2025-02-24T21:50:48.341369",
     "exception": false,
     "start_time": "2025-02-24T21:50:48.326143",
     "status": "completed"
    },
    "tags": []
   },
   "outputs": [],
   "source": [
    "ZDIM = 6"
   ]
  },
  {
   "cell_type": "markdown",
   "id": "e5d53745",
   "metadata": {
    "papermill": {
     "duration": 0.048006,
     "end_time": "2025-02-24T21:50:48.399672",
     "exception": false,
     "start_time": "2025-02-24T21:50:48.351666",
     "status": "completed"
    },
    "tags": []
   },
   "source": [
    "## Prior Net"
   ]
  },
  {
   "cell_type": "code",
   "execution_count": 29,
   "id": "28956bd1",
   "metadata": {
    "execution": {
     "iopub.execute_input": "2025-02-24T21:50:48.421347Z",
     "iopub.status.busy": "2025-02-24T21:50:48.421078Z",
     "iopub.status.idle": "2025-02-24T21:50:48.428493Z",
     "shell.execute_reply": "2025-02-24T21:50:48.427828Z"
    },
    "papermill": {
     "duration": 0.019514,
     "end_time": "2025-02-24T21:50:48.429549",
     "exception": false,
     "start_time": "2025-02-24T21:50:48.410035",
     "status": "completed"
    },
    "tags": []
   },
   "outputs": [],
   "source": [
    "class PriorNet(nn.Module):\n",
    "    def __init__(self, in_channel=1, out_channel=ZDIM*2):\n",
    "        super().__init__()\n",
    "        self.conv1 = nn.Conv2d(in_channels=in_channel, out_channels=32, kernel_size=3, stride=1, padding='same')                 # 1,128,128 -> 32,128,128\n",
    "        self.conv2 = nn.Conv2d(in_channels=32, out_channels=32, kernel_size=3, stride=1, padding='same')                         # 32,128,128 -> 32,128,128\n",
    "        self.pool = nn.MaxPool2d(kernel_size=2, stride=2)\n",
    "        self.conv3 = nn.Conv2d(in_channels=32, out_channels=64, kernel_size=3, stride=1, padding='same')                        # 32,64,64 -> 64,64,64\n",
    "        self.conv4 = nn.Conv2d(in_channels=64, out_channels=64, kernel_size=3, stride=1, padding='same')                        # 64,64,64 -> 64,64,64\n",
    "        self.conv5 = nn.Conv2d(in_channels=64, out_channels=128, kernel_size=3, stride=1, padding='same')                        # 64,32,32 -> 128,32,32\n",
    "        self.conv6 = nn.Conv2d(in_channels=128, out_channels=128, kernel_size=3, stride=1, padding='same')                      # 128,32,32 -> 128,32,32\n",
    "        self.fc1 = nn.Linear(128*16*16, 512)                                                                                    # 128*16*16 -> 512\n",
    "        self.fc2 = nn.Linear(512, out_channel)                                                                                  # 512 -> 6\n",
    "\n",
    "    def forward(self, x):\n",
    "        x = self.conv1(x)\n",
    "        x = F.relu(x)\n",
    "        x = self.conv2(x)\n",
    "        x = F.relu(x)\n",
    "        x = self.pool(x)\n",
    "        x = self.conv3(x)\n",
    "        x = F.relu(x)\n",
    "        x = self.conv4(x)\n",
    "        x = F.relu(x)\n",
    "        x = self.pool(x)\n",
    "        x = self.conv5(x)\n",
    "        x = F.relu(x)\n",
    "        x = self.conv6(x)\n",
    "        x = F.relu(x)\n",
    "        x = self.pool(x)\n",
    "        x = torch.flatten(x, start_dim=1)\n",
    "        x = self.fc1(x)\n",
    "        x = self.fc2(x)\n",
    "        \n",
    "        return x"
   ]
  },
  {
   "cell_type": "markdown",
   "id": "74d3b527",
   "metadata": {
    "papermill": {
     "duration": 0.0101,
     "end_time": "2025-02-24T21:50:48.449993",
     "exception": false,
     "start_time": "2025-02-24T21:50:48.439893",
     "status": "completed"
    },
    "tags": []
   },
   "source": [
    "## Posterior Net"
   ]
  },
  {
   "cell_type": "code",
   "execution_count": 30,
   "id": "b66fcc44",
   "metadata": {
    "execution": {
     "iopub.execute_input": "2025-02-24T21:50:48.471375Z",
     "iopub.status.busy": "2025-02-24T21:50:48.471151Z",
     "iopub.status.idle": "2025-02-24T21:50:48.477966Z",
     "shell.execute_reply": "2025-02-24T21:50:48.477321Z"
    },
    "papermill": {
     "duration": 0.018804,
     "end_time": "2025-02-24T21:50:48.479057",
     "exception": false,
     "start_time": "2025-02-24T21:50:48.460253",
     "status": "completed"
    },
    "tags": []
   },
   "outputs": [],
   "source": [
    "class PosteriorNet(nn.Module):\n",
    "    def __init__(self, in_channel=2, out_channel=ZDIM*2):\n",
    "        super().__init__()\n",
    "        self.conv1 = nn.Conv2d(in_channels=in_channel, out_channels=32, kernel_size=3, stride=1, padding='same')                 # 2,128,128 -> 32,128,128\n",
    "        self.conv2 = nn.Conv2d(in_channels=32, out_channels=32, kernel_size=3, stride=1, padding='same')                         # 32,128,128 -> 32,128,128\n",
    "        self.pool = nn.MaxPool2d(kernel_size=2, stride=2)\n",
    "        self.conv3 = nn.Conv2d(in_channels=32, out_channels=64, kernel_size=3, stride=1, padding='same')                        # 32,64,64 -> 64,64,64\n",
    "        self.conv4 = nn.Conv2d(in_channels=64, out_channels=64, kernel_size=3, stride=1, padding='same')                        # 64,64,64 -> 64,64,64\n",
    "        self.conv5 = nn.Conv2d(in_channels=64, out_channels=128, kernel_size=3, stride=1, padding='same')                        # 64,32,32 -> 128,32,32\n",
    "        self.conv6 = nn.Conv2d(in_channels=128, out_channels=128, kernel_size=3, stride=1, padding='same')                      # 128,32,32 -> 128,32,32\n",
    "        self.fc1 = nn.Linear(128*16*16, 512)                                                                                    # 128*16*16 -> 512\n",
    "        self.fc2 = nn.Linear(512, out_channel)                                                                                   # 512 -> 12\n",
    "\n",
    "    def forward(self, x, y):\n",
    "        x = torch.cat((x, y), dim=1)\n",
    "        x = self.conv1(x)\n",
    "        x = F.relu(x)\n",
    "        x = self.conv2(x)\n",
    "        x = F.relu(x)\n",
    "        x = self.pool(x)\n",
    "        x = self.conv3(x)\n",
    "        x = F.relu(x)\n",
    "        x = self.conv4(x)\n",
    "        x = F.relu(x)\n",
    "        x = self.pool(x)\n",
    "        x = self.conv5(x)\n",
    "        x = F.relu(x)\n",
    "        x = self.conv6(x)\n",
    "        x = F.relu(x)\n",
    "        x = self.pool(x)\n",
    "        x = torch.flatten(x, start_dim=1)\n",
    "        x = self.fc1(x)\n",
    "        x = self.fc2(x)\n",
    "        \n",
    "        return x"
   ]
  },
  {
   "cell_type": "code",
   "execution_count": 31,
   "id": "9c0b2901",
   "metadata": {
    "execution": {
     "iopub.execute_input": "2025-02-24T21:50:48.499957Z",
     "iopub.status.busy": "2025-02-24T21:50:48.499694Z",
     "iopub.status.idle": "2025-02-24T21:50:48.785636Z",
     "shell.execute_reply": "2025-02-24T21:50:48.784609Z"
    },
    "papermill": {
     "duration": 0.298237,
     "end_time": "2025-02-24T21:50:48.787346",
     "exception": false,
     "start_time": "2025-02-24T21:50:48.489109",
     "status": "completed"
    },
    "tags": []
   },
   "outputs": [],
   "source": [
    "prior_net = PriorNet()\n",
    "posterior_net = PosteriorNet()"
   ]
  },
  {
   "cell_type": "code",
   "execution_count": 32,
   "id": "22778d50",
   "metadata": {
    "execution": {
     "iopub.execute_input": "2025-02-24T21:50:48.809054Z",
     "iopub.status.busy": "2025-02-24T21:50:48.808755Z",
     "iopub.status.idle": "2025-02-24T21:50:49.589132Z",
     "shell.execute_reply": "2025-02-24T21:50:49.588091Z"
    },
    "papermill": {
     "duration": 0.792554,
     "end_time": "2025-02-24T21:50:49.590629",
     "exception": false,
     "start_time": "2025-02-24T21:50:48.798075",
     "status": "completed"
    },
    "tags": []
   },
   "outputs": [
    {
     "name": "stdout",
     "output_type": "stream",
     "text": [
      "torch.Size([32, 12])\n"
     ]
    }
   ],
   "source": [
    "rand_img = torch.rand(32,1,128,128)\n",
    "rand_pred = prior_net(rand_img)\n",
    "print(rand_pred.shape)"
   ]
  },
  {
   "cell_type": "code",
   "execution_count": 33,
   "id": "c86efec4",
   "metadata": {
    "execution": {
     "iopub.execute_input": "2025-02-24T21:50:49.612738Z",
     "iopub.status.busy": "2025-02-24T21:50:49.612508Z",
     "iopub.status.idle": "2025-02-24T21:50:50.336281Z",
     "shell.execute_reply": "2025-02-24T21:50:50.335205Z"
    },
    "papermill": {
     "duration": 0.736241,
     "end_time": "2025-02-24T21:50:50.337755",
     "exception": false,
     "start_time": "2025-02-24T21:50:49.601514",
     "status": "completed"
    },
    "tags": []
   },
   "outputs": [
    {
     "name": "stdout",
     "output_type": "stream",
     "text": [
      "torch.Size([32, 2, 128, 128])\n",
      "torch.Size([32, 12])\n"
     ]
    }
   ],
   "source": [
    "sample1 = torch.randn(32,1,128,128)\n",
    "sample2 = torch.randn(32,1,128,128)\n",
    "result = torch.cat((sample1, sample2), dim=1)\n",
    "print(result.shape)\n",
    "result2 = posterior_net(sample1, sample2)\n",
    "print(result2.shape)"
   ]
  },
  {
   "cell_type": "markdown",
   "id": "57ece014",
   "metadata": {
    "papermill": {
     "duration": 0.010286,
     "end_time": "2025-02-24T21:50:50.361291",
     "exception": false,
     "start_time": "2025-02-24T21:50:50.351005",
     "status": "completed"
    },
    "tags": []
   },
   "source": [
    "## Block wise Convolution"
   ]
  },
  {
   "cell_type": "code",
   "execution_count": 34,
   "id": "5c7815b0",
   "metadata": {
    "execution": {
     "iopub.execute_input": "2025-02-24T21:50:50.382937Z",
     "iopub.status.busy": "2025-02-24T21:50:50.382654Z",
     "iopub.status.idle": "2025-02-24T21:50:50.387584Z",
     "shell.execute_reply": "2025-02-24T21:50:50.386971Z"
    },
    "papermill": {
     "duration": 0.017228,
     "end_time": "2025-02-24T21:50:50.388766",
     "exception": false,
     "start_time": "2025-02-24T21:50:50.371538",
     "status": "completed"
    },
    "tags": []
   },
   "outputs": [],
   "source": [
    "class DoubleConv(nn.Module):\n",
    "    def __init__(self, in_channels, out_channels):\n",
    "        super(DoubleConv, self).__init__()\n",
    "        self.conv = nn.Sequential(\n",
    "            nn.Conv2d(in_channels, out_channels, kernel_size=3, stride=1, padding='same'),\n",
    "            nn.BatchNorm2d(out_channels),\n",
    "            nn.ReLU(inplace=True),\n",
    "            nn.Conv2d(out_channels, out_channels, kernel_size=3, stride=1, padding='same'),\n",
    "            nn.BatchNorm2d(out_channels),\n",
    "            nn.ReLU(inplace=True),\n",
    "            nn.Conv2d(out_channels, out_channels, kernel_size=3, stride=1, padding='same'),\n",
    "            nn.BatchNorm2d(out_channels),\n",
    "            nn.ReLU(inplace=True)\n",
    "        )\n",
    "    def forward(self, x):\n",
    "        return self.conv(x)"
   ]
  },
  {
   "cell_type": "markdown",
   "id": "9dcc9d08",
   "metadata": {
    "papermill": {
     "duration": 0.010223,
     "end_time": "2025-02-24T21:50:50.409526",
     "exception": false,
     "start_time": "2025-02-24T21:50:50.399303",
     "status": "completed"
    },
    "tags": []
   },
   "source": [
    "## UNet"
   ]
  },
  {
   "cell_type": "code",
   "execution_count": 35,
   "id": "84b17c91",
   "metadata": {
    "execution": {
     "iopub.execute_input": "2025-02-24T21:50:50.431686Z",
     "iopub.status.busy": "2025-02-24T21:50:50.431449Z",
     "iopub.status.idle": "2025-02-24T21:50:50.439568Z",
     "shell.execute_reply": "2025-02-24T21:50:50.438904Z"
    },
    "papermill": {
     "duration": 0.021008,
     "end_time": "2025-02-24T21:50:50.441018",
     "exception": false,
     "start_time": "2025-02-24T21:50:50.420010",
     "status": "completed"
    },
    "tags": []
   },
   "outputs": [],
   "source": [
    "class UNet(nn.Module):\n",
    "    def __init__(self, in_channels=1, out_channels=2, base_channels=32):\n",
    "        super().__init__()\n",
    "        self.downsample1 = DoubleConv(in_channels, base_channels)\n",
    "        self.downsample2 = DoubleConv(base_channels, base_channels*2)\n",
    "        self.downsample3 = DoubleConv(base_channels*2, base_channels*4)\n",
    "        self.downsample4 = DoubleConv(base_channels*4, base_channels*8)\n",
    "\n",
    "        self.bottleneck1 = DoubleConv(base_channels*8, base_channels*16)\n",
    "        \n",
    "        self.upsample4 = DoubleConv(base_channels*16, base_channels*8)\n",
    "        self.upsample3 = DoubleConv(base_channels*8, base_channels*4)\n",
    "        self.upsample2 = DoubleConv(base_channels*4, base_channels*2)\n",
    "        self.upsample1 = DoubleConv(base_channels*2, base_channels)\n",
    "\n",
    "        self.upsample0 = nn.Conv2d(in_channels=base_channels, out_channels=base_channels, kernel_size=1, stride=1, padding='same')\n",
    "\n",
    "        self.fcomb = nn.Conv2d(in_channels=base_channels+ZDIM, out_channels=out_channels, kernel_size=1, stride=1, padding='same')\n",
    "        \n",
    "    \n",
    "    def forward(self, x, z):\n",
    "        e1 = self.downsample1(x)\n",
    "        e2 = self.downsample2(F.interpolate(e1, scale_factor=0.5, mode='bilinear', align_corners=True))\n",
    "        e3 = self.downsample3(F.interpolate(e2, scale_factor=0.5, mode='bilinear', align_corners=True))\n",
    "        e4 = self.downsample4(F.interpolate(e3, scale_factor=0.5, mode='bilinear', align_corners=True))\n",
    "        \n",
    "        b1 = self.bottleneck1(F.interpolate(e4, scale_factor=0.5, mode='bilinear', align_corners=True))\n",
    "        \n",
    "        d4 = self.upsample4(F.interpolate(b1, scale_factor=2, mode='bilinear', align_corners=True))\n",
    "        d3 = self.upsample3(F.interpolate(d4+e4, scale_factor=2, mode='bilinear', align_corners=True))\n",
    "        d2 = self.upsample2(F.interpolate(d3+e3, scale_factor=2, mode='bilinear', align_corners=True))\n",
    "        d1 = self.upsample1(F.interpolate(d2+e2, scale_factor=2, mode='bilinear', align_corners=True))\n",
    "\n",
    "        d0 = self.upsample0(d1+e1)     # 32,32,128,128\n",
    "\n",
    "        # z.shape = [32,6] -> [32, 6, 1, 1] -> [32, 6, 128, 128]\n",
    "        B, C = z.shape\n",
    "        z = z.reshape(B, C, 1, 1)\n",
    "        z = z.expand(-1, -1, 128, 128)\n",
    "        \n",
    "        # concat d0 with z_sample                                  [32,32,128,128] cat [32,6, 128, 128]\n",
    "        output = self.fcomb(torch.cat([d0, z], dim=1))                    # [32,38,128,128]\n",
    "        return output"
   ]
  },
  {
   "cell_type": "code",
   "execution_count": 36,
   "id": "cf73fcec",
   "metadata": {
    "execution": {
     "iopub.execute_input": "2025-02-24T21:50:50.462616Z",
     "iopub.status.busy": "2025-02-24T21:50:50.462395Z",
     "iopub.status.idle": "2025-02-24T21:50:54.201726Z",
     "shell.execute_reply": "2025-02-24T21:50:54.200855Z"
    },
    "papermill": {
     "duration": 3.751829,
     "end_time": "2025-02-24T21:50:54.203213",
     "exception": false,
     "start_time": "2025-02-24T21:50:50.451384",
     "status": "completed"
    },
    "tags": []
   },
   "outputs": [
    {
     "data": {
      "text/plain": [
       "torch.Size([32, 2, 128, 128])"
      ]
     },
     "execution_count": 36,
     "metadata": {},
     "output_type": "execute_result"
    }
   ],
   "source": [
    "random_image = torch.randn(32,1,128,128)\n",
    "latent_z = torch.randn(32, 6)\n",
    "unet = UNet()\n",
    "logits = unet(random_image, latent_z)\n",
    "logits.shape"
   ]
  },
  {
   "cell_type": "code",
   "execution_count": 37,
   "id": "1ed5c08d",
   "metadata": {
    "execution": {
     "iopub.execute_input": "2025-02-24T21:50:54.228090Z",
     "iopub.status.busy": "2025-02-24T21:50:54.227765Z",
     "iopub.status.idle": "2025-02-24T21:50:54.262567Z",
     "shell.execute_reply": "2025-02-24T21:50:54.261714Z"
    },
    "papermill": {
     "duration": 0.049359,
     "end_time": "2025-02-24T21:50:54.263898",
     "exception": false,
     "start_time": "2025-02-24T21:50:54.214539",
     "status": "completed"
    },
    "tags": []
   },
   "outputs": [
    {
     "name": "stdout",
     "output_type": "stream",
     "text": [
      "torch.Size([32, 256, 16, 16])\n"
     ]
    }
   ],
   "source": [
    "ex1 = torch.rand(32, 256, 16, 16)\n",
    "ex2 = torch.rand(32, 256, 16, 16)\n",
    "res1 = ex1 + ex2\n",
    "print(res1.shape)"
   ]
  },
  {
   "cell_type": "markdown",
   "id": "9d5633b7",
   "metadata": {
    "papermill": {
     "duration": 0.011632,
     "end_time": "2025-02-24T21:50:54.290581",
     "exception": false,
     "start_time": "2025-02-24T21:50:54.278949",
     "status": "completed"
    },
    "tags": []
   },
   "source": [
    "## KL Divergence"
   ]
  },
  {
   "cell_type": "code",
   "execution_count": 38,
   "id": "6f7350e9",
   "metadata": {
    "execution": {
     "iopub.execute_input": "2025-02-24T21:50:54.314487Z",
     "iopub.status.busy": "2025-02-24T21:50:54.314243Z",
     "iopub.status.idle": "2025-02-24T21:50:54.318210Z",
     "shell.execute_reply": "2025-02-24T21:50:54.317528Z"
    },
    "papermill": {
     "duration": 0.017453,
     "end_time": "2025-02-24T21:50:54.319459",
     "exception": false,
     "start_time": "2025-02-24T21:50:54.302006",
     "status": "completed"
    },
    "tags": []
   },
   "outputs": [],
   "source": [
    "def kl_div(mu_p, mu_q, sigma_p, sigma_q, eps=1e-6):\n",
    "    sigma_p = sigma_p + eps  # Prevents division by zero\n",
    "    sigma_q = sigma_q + eps\n",
    "    \n",
    "    first = torch.log(sigma_q / sigma_p)\n",
    "    second = ((sigma_p**2) + (mu_p - mu_q)**2) / (2 * (sigma_q)**2)\n",
    "    return first + second - 0.5"
   ]
  },
  {
   "cell_type": "markdown",
   "id": "c64ffe6b",
   "metadata": {
    "papermill": {
     "duration": 0.011426,
     "end_time": "2025-02-24T21:50:54.342673",
     "exception": false,
     "start_time": "2025-02-24T21:50:54.331247",
     "status": "completed"
    },
    "tags": []
   },
   "source": [
    "# Training"
   ]
  },
  {
   "cell_type": "markdown",
   "id": "47280e99",
   "metadata": {
    "papermill": {
     "duration": 0.011028,
     "end_time": "2025-02-24T21:50:54.364961",
     "exception": false,
     "start_time": "2025-02-24T21:50:54.353933",
     "status": "completed"
    },
    "tags": []
   },
   "source": [
    "all models to device\n",
    "\n",
    "optimzer -> all models parameters addition\n",
    "\n",
    "recon_loss = cross entropy loss\n",
    "beta of KL div = 1\n",
    "loss = recon_loss + beta * KL div\n",
    "\n",
    "KL(post||prior) = log(sigma_post / sigma_prior) + ((mu_post**2 + (mu_prior - mu_post)**2) / (2 * (sigma_prior**2))) - 0.5\n",
    "\n"
   ]
  },
  {
   "cell_type": "code",
   "execution_count": 39,
   "id": "63f3069e",
   "metadata": {
    "execution": {
     "iopub.execute_input": "2025-02-24T21:50:54.388399Z",
     "iopub.status.busy": "2025-02-24T21:50:54.388180Z",
     "iopub.status.idle": "2025-02-24T21:50:54.611669Z",
     "shell.execute_reply": "2025-02-24T21:50:54.611017Z"
    },
    "papermill": {
     "duration": 0.237046,
     "end_time": "2025-02-24T21:50:54.613251",
     "exception": false,
     "start_time": "2025-02-24T21:50:54.376205",
     "status": "completed"
    },
    "tags": []
   },
   "outputs": [],
   "source": [
    "prior_net.to(device)\n",
    "posterior_net.to(device)\n",
    "unet.to(device)\n",
    "\n",
    "parameters = list(prior_net.parameters()) + list(posterior_net.parameters()) + list(unet.parameters())\n",
    "optimizer = optim.Adam(params=parameters, lr=LR)\n",
    "\n",
    "criterion = nn.CrossEntropyLoss()"
   ]
  },
  {
   "cell_type": "code",
   "execution_count": 40,
   "id": "b7d91867",
   "metadata": {
    "execution": {
     "iopub.execute_input": "2025-02-24T21:50:54.636805Z",
     "iopub.status.busy": "2025-02-24T21:50:54.636537Z",
     "iopub.status.idle": "2025-02-24T22:04:53.998160Z",
     "shell.execute_reply": "2025-02-24T22:04:53.997255Z"
    },
    "papermill": {
     "duration": 839.387943,
     "end_time": "2025-02-24T22:04:54.012684",
     "exception": false,
     "start_time": "2025-02-24T21:50:54.624741",
     "status": "completed"
    },
    "tags": []
   },
   "outputs": [
    {
     "data": {
      "application/vnd.jupyter.widget-view+json": {
       "model_id": "4efe33fd6fef4eb4afaa12e7c813d3e6",
       "version_major": 2,
       "version_minor": 0
      },
      "text/plain": [
       "  0%|          | 0/10 [00:00<?, ?it/s]"
      ]
     },
     "metadata": {},
     "output_type": "display_data"
    },
    {
     "name": "stdout",
     "output_type": "stream",
     "text": [
      "The training loss in epoch 0 is 0.04019534960389137\n",
      "The training loss in epoch 1 is 0.032815393060445786\n",
      "The training loss in epoch 2 is 0.0775580108165741\n",
      "The training loss in epoch 3 is 0.02726236917078495\n",
      "The training loss in epoch 4 is 0.02926739677786827\n",
      "The training loss in epoch 5 is 0.13738498091697693\n",
      "The training loss in epoch 6 is 0.01636558212339878\n",
      "The training loss in epoch 7 is 0.0278835017234087\n",
      "The training loss in epoch 8 is 0.11889111995697021\n",
      "The training loss in epoch 9 is 0.018347088247537613\n",
      "The final training loss is 0.018347088247537613\n"
     ]
    }
   ],
   "source": [
    "from tqdm.auto import tqdm\n",
    "\n",
    "for epoch in tqdm(range(EPOCHS)):\n",
    "\n",
    "    epoch_loss = []\n",
    "    \n",
    "    for batch in train_loader:\n",
    "        batch_loss = []\n",
    "        image, gt_mask = batch\n",
    "        image = image.to(device)\n",
    "        gt_mask = gt_mask.to(device)\n",
    "\n",
    "        mu_logvar_post = posterior_net(image, gt_mask)\n",
    "        mu_post = mu_logvar_post[:,:ZDIM]\n",
    "        logvar_post = mu_logvar_post[:,ZDIM:]\n",
    "        sigma_post = torch.sqrt(torch.exp(logvar_post))\n",
    "        epsilon_post = torch.randn_like(sigma_post)\n",
    "        z_post = mu_post + sigma_post * epsilon_post\n",
    "        \n",
    "        mu_logvar_prior = prior_net(image)\n",
    "        mu_prior = mu_logvar_prior[:,:ZDIM]\n",
    "        logvar_prior = mu_logvar_prior[:,ZDIM:]\n",
    "        sigma_prior = torch.sqrt(torch.exp(logvar_prior))\n",
    "        epsilon_prior = torch.randn_like(sigma_prior)\n",
    "        z_prior = mu_prior + sigma_prior * epsilon_prior\n",
    "\n",
    "        # unet\n",
    "        pred_mask = unet(image, z_post)\n",
    "\n",
    "        # loss\n",
    "        gt_mask_squeezed = torch.squeeze(gt_mask/255, dim=1).long()\n",
    "        \n",
    "        recon_loss = criterion(pred_mask, gt_mask_squeezed)        # cross entropy loss\n",
    "        \n",
    "        kl_div_loss = kl_div(mu_post, mu_prior, sigma_post, sigma_prior)   # KL Div\n",
    "\n",
    "        # kl_div = torch.log(sigma_post / sigma_prior) + (((sigma_prior**2) + (mu_prior - mu_post)**2) / (2 * (sigma_post)**2)) - 0.5\n",
    "        \n",
    "        loss = recon_loss + kl_div_loss.mean()\n",
    "        batch_loss.append(loss.item())\n",
    "\n",
    "        optimizer.zero_grad()\n",
    "        loss.backward()\n",
    "        optimizer.step()\n",
    "\n",
    "    avg_batch_loss = np.mean(batch_loss)\n",
    "    epoch_loss.append(avg_batch_loss)\n",
    "    print(f\"The training loss in epoch {epoch} is {avg_batch_loss}\")\n",
    "train_loss = np.mean(epoch_loss)\n",
    "print(f\"The final training loss is {train_loss}\")"
   ]
  },
  {
   "cell_type": "markdown",
   "id": "1872accc",
   "metadata": {
    "papermill": {
     "duration": 0.011471,
     "end_time": "2025-02-24T22:04:54.036265",
     "exception": false,
     "start_time": "2025-02-24T22:04:54.024794",
     "status": "completed"
    },
    "tags": []
   },
   "source": [
    "## Inference"
   ]
  },
  {
   "cell_type": "code",
   "execution_count": 41,
   "id": "f8291c69",
   "metadata": {
    "execution": {
     "iopub.execute_input": "2025-02-24T22:04:54.061910Z",
     "iopub.status.busy": "2025-02-24T22:04:54.061557Z",
     "iopub.status.idle": "2025-02-24T22:04:54.867958Z",
     "shell.execute_reply": "2025-02-24T22:04:54.866995Z"
    },
    "papermill": {
     "duration": 0.821213,
     "end_time": "2025-02-24T22:04:54.869360",
     "exception": false,
     "start_time": "2025-02-24T22:04:54.048147",
     "status": "completed"
    },
    "tags": []
   },
   "outputs": [
    {
     "data": {
      "image/png": "[encoded data removed]",
      "text/plain": [
       "<Figure size 640x480 with 1 Axes>"
      ]
     },
     "metadata": {},
     "output_type": "display_data"
    },
    {
     "data": {
      "image/png": "[encoded data removed]",
      "text/plain": [
       "<Figure size 1500x500 with 4 Axes>"
      ]
     },
     "metadata": {},
     "output_type": "display_data"
    }
   ],
   "source": [
    "test_idx = 234\n",
    "num_pred = 4\n",
    "\n",
    "test_image = test_dataset[test_idx]\n",
    "test_image = torch.unsqueeze(test_image, dim=0)\n",
    "test_image = test_image.to(device)\n",
    "\n",
    "test_preds = []\n",
    "\n",
    "for _ in range(num_pred):\n",
    "    test_mu_logvar = prior_net(test_image)\n",
    "    test_mu = test_mu_logvar[:,:ZDIM]\n",
    "    test_logvar = test_mu_logvar[:,ZDIM:]\n",
    "    \n",
    "    test_sigma = torch.sqrt(torch.exp(test_logvar))\n",
    "    test_epsilon = torch.randn_like(test_sigma)\n",
    "    test_z = test_mu + test_sigma * test_epsilon\n",
    "    \n",
    "    pred_mask = unet(test_image, test_z)\n",
    "    pred_mask = torch.argmax(pred_mask, dim=1)\n",
    "    test_preds.append(pred_mask)\n",
    "\n",
    "test_image = torch.squeeze(test_image[0], dim=0).to(\"cpu\")\n",
    "plt.imshow(test_image, cmap='gray')\n",
    "plt.show()\n",
    "\n",
    "fig, axes = plt.subplots(1, num_pred, figsize=(15,5))\n",
    "idx = 0\n",
    "for test_pred in test_preds:\n",
    "    test_pred = torch.squeeze(test_pred, dim=0).to(\"cpu\")\n",
    "    axes[idx].imshow(test_pred, cmap='gray')\n",
    "    idx = idx+1\n",
    "plt.show()"
   ]
  },
  {
   "cell_type": "code",
   "execution_count": 42,
   "id": "c6f011fd",
   "metadata": {
    "execution": {
     "iopub.execute_input": "2025-02-24T22:04:54.898735Z",
     "iopub.status.busy": "2025-02-24T22:04:54.898455Z",
     "iopub.status.idle": "2025-02-24T22:04:54.903327Z",
     "shell.execute_reply": "2025-02-24T22:04:54.902486Z"
    },
    "papermill": {
     "duration": 0.020671,
     "end_time": "2025-02-24T22:04:54.904569",
     "exception": false,
     "start_time": "2025-02-24T22:04:54.883898",
     "status": "completed"
    },
    "tags": []
   },
   "outputs": [
    {
     "data": {
      "text/plain": [
       "torch.Size([1, 6])"
      ]
     },
     "execution_count": 42,
     "metadata": {},
     "output_type": "execute_result"
    }
   ],
   "source": [
    "test_z.shape"
   ]
  },
  {
   "cell_type": "code",
   "execution_count": 43,
   "id": "9e97bd3a",
   "metadata": {
    "execution": {
     "iopub.execute_input": "2025-02-24T22:04:54.932640Z",
     "iopub.status.busy": "2025-02-24T22:04:54.932371Z",
     "iopub.status.idle": "2025-02-24T22:04:54.937090Z",
     "shell.execute_reply": "2025-02-24T22:04:54.936243Z"
    },
    "papermill": {
     "duration": 0.019942,
     "end_time": "2025-02-24T22:04:54.938358",
     "exception": false,
     "start_time": "2025-02-24T22:04:54.918416",
     "status": "completed"
    },
    "tags": []
   },
   "outputs": [
    {
     "data": {
      "text/plain": [
       "torch.Size([1, 128, 128])"
      ]
     },
     "execution_count": 43,
     "metadata": {},
     "output_type": "execute_result"
    }
   ],
   "source": [
    "test_preds[0].shape"
   ]
  },
  {
   "cell_type": "code",
   "execution_count": null,
   "id": "8033d7e6",
   "metadata": {
    "papermill": {
     "duration": 0.013491,
     "end_time": "2025-02-24T22:04:54.966122",
     "exception": false,
     "start_time": "2025-02-24T22:04:54.952631",
     "status": "completed"
    },
    "tags": []
   },
   "outputs": [],
   "source": []
  }
 ],
 "metadata": {
  "kaggle": {
   "accelerator": "gpu",
   "dataSources": [
    {
     "datasetId": 6724696,
     "sourceId": 10829884,
     "sourceType": "datasetVersion"
    }
   ],
   "dockerImageVersionId": 30919,
   "isGpuEnabled": true,
   "isInternetEnabled": true,
   "language": "python",
   "sourceType": "notebook"
  },
  "kernelspec": {
   "display_name": "Python 3",
   "language": "python",
   "name": "python3"
  },
  "language_info": {
   "codemirror_mode": {
    "name": "ipython",
    "version": 3
   },
   "file_extension": ".py",
   "mimetype": "text/x-python",
   "name": "python",
   "nbconvert_exporter": "python",
   "pygments_lexer": "ipython3",
   "version": "3.10.12"
  },
  "papermill": {
   "default_parameters": {},
   "duration": 875.714011,
   "end_time": "2025-02-24T22:04:57.006009",
   "environment_variables": {},
   "exception": null,
   "input_path": "__notebook__.ipynb",
   "output_path": "__notebook__.ipynb",
   "parameters": {},
   "start_time": "2025-02-24T21:50:21.291998",
   "version": "2.6.0"
  },
  "widgets": {
   "application/vnd.jupyter.widget-state+json": {
    "state": {
     "49a9e42983c14be0aabb717cffbc3742": {
      "model_module": "@jupyter-widgets/base",
      "model_module_version": "2.0.0",
      "model_name": "LayoutModel",
      "state": {
       "_model_module": "@jupyter-widgets/base",
       "_model_module_version": "2.0.0",
       "_model_name": "LayoutModel",
       "_view_count": null,
       "_view_module": "@jupyter-widgets/base",
       "_view_module_version": "2.0.0",
       "_view_name": "LayoutView",
       "align_content": null,
       "align_items": null,
       "align_self": null,
       "border_bottom": null,
       "border_left": null,
       "border_right": null,
       "border_top": null,
       "bottom": null,
       "display": null,
       "flex": null,
       "flex_flow": null,
       "grid_area": null,
       "grid_auto_columns": null,
       "grid_auto_flow": null,
       "grid_auto_rows": null,
       "grid_column": null,
       "grid_gap": null,
       "grid_row": null,
       "grid_template_areas": null,
       "grid_template_columns": null,
       "grid_template_rows": null,
       "height": null,
       "justify_content": null,
       "justify_items": null,
       "left": null,
       "margin": null,
       "max_height": null,
       "max_width": null,
       "min_height": null,
       "min_width": null,
       "object_fit": null,
       "object_position": null,
       "order": null,
       "overflow": null,
       "padding": null,
       "right": null,
       "top": null,
       "visibility": null,
       "width": null
      }
     },
     "4efe33fd6fef4eb4afaa12e7c813d3e6": {
      "model_module": "@jupyter-widgets/controls",
      "model_module_version": "2.0.0",
      "model_name": "HBoxModel",
      "state": {
       "_dom_classes": [],
       "_model_module": "@jupyter-widgets/controls",
       "_model_module_version": "2.0.0",
       "_model_name": "HBoxModel",
       "_view_count": null,
       "_view_module": "@jupyter-widgets/controls",
       "_view_module_version": "2.0.0",
       "_view_name": "HBoxView",
       "box_style": "",
       "children": [
        "IPY_MODEL_d3918a99b98944e1801b1489ec102b10",
        "IPY_MODEL_5dd0fb7498c74d5ead12704f28c5f0b8",
        "IPY_MODEL_67c0fc8af21e428e83b4430605f02a68"
       ],
       "layout": "IPY_MODEL_b5b24be792a84690b68d6df25c1df5d1",
       "tabbable": null,
       "tooltip": null
      }
     },
     "5dd0fb7498c74d5ead12704f28c5f0b8": {
      "model_module": "@jupyter-widgets/controls",
      "model_module_version": "2.0.0",
      "model_name": "FloatProgressModel",
      "state": {
       "_dom_classes": [],
       "_model_module": "@jupyter-widgets/controls",
       "_model_module_version": "2.0.0",
       "_model_name": "FloatProgressModel",
       "_view_count": null,
       "_view_module": "@jupyter-widgets/controls",
       "_view_module_version": "2.0.0",
       "_view_name": "ProgressView",
       "bar_style": "success",
       "description": "",
       "description_allow_html": false,
       "layout": "IPY_MODEL_49a9e42983c14be0aabb717cffbc3742",
       "max": 10.0,
       "min": 0.0,
       "orientation": "horizontal",
       "style": "IPY_MODEL_ff4445803151493c9f34f83dd9ff8aa0",
       "tabbable": null,
       "tooltip": null,
       "value": 10.0
      }
     },
     "67c0fc8af21e428e83b4430605f02a68": {
      "model_module": "@jupyter-widgets/controls",
      "model_module_version": "2.0.0",
      "model_name": "HTMLModel",
      "state": {
       "_dom_classes": [],
       "_model_module": "@jupyter-widgets/controls",
       "_model_module_version": "2.0.0",
       "_model_name": "HTMLModel",
       "_view_count": null,
       "_view_module": "@jupyter-widgets/controls",
       "_view_module_version": "2.0.0",
       "_view_name": "HTMLView",
       "description": "",
       "description_allow_html": false,
       "layout": "IPY_MODEL_e54157c034434f739e5b2277f748d8ae",
       "placeholder": "​",
       "style": "IPY_MODEL_b09148adb1664c26a618c43b4b5e5986",
       "tabbable": null,
       "tooltip": null,
       "value": " 10/10 [13:59&lt;00:00, 74.57s/it]"
      }
     },
     "a1ae5e926e3148a283e8655fbde5142b": {
      "model_module": "@jupyter-widgets/controls",
      "model_module_version": "2.0.0",
      "model_name": "HTMLStyleModel",
      "state": {
       "_model_module": "@jupyter-widgets/controls",
       "_model_module_version": "2.0.0",
       "_model_name": "HTMLStyleModel",
       "_view_count": null,
       "_view_module": "@jupyter-widgets/base",
       "_view_module_version": "2.0.0",
       "_view_name": "StyleView",
       "background": null,
       "description_width": "",
       "font_size": null,
       "text_color": null
      }
     },
     "b09148adb1664c26a618c43b4b5e5986": {
      "model_module": "@jupyter-widgets/controls",
      "model_module_version": "2.0.0",
      "model_name": "HTMLStyleModel",
      "state": {
       "_model_module": "@jupyter-widgets/controls",
       "_model_module_version": "2.0.0",
       "_model_name": "HTMLStyleModel",
       "_view_count": null,
       "_view_module": "@jupyter-widgets/base",
       "_view_module_version": "2.0.0",
       "_view_name": "StyleView",
       "background": null,
       "description_width": "",
       "font_size": null,
       "text_color": null
      }
     },
     "b5b24be792a84690b68d6df25c1df5d1": {
      "model_module": "@jupyter-widgets/base",
      "model_module_version": "2.0.0",
      "model_name": "LayoutModel",
      "state": {
       "_model_module": "@jupyter-widgets/base",
       "_model_module_version": "2.0.0",
       "_model_name": "LayoutModel",
       "_view_count": null,
       "_view_module": "@jupyter-widgets/base",
       "_view_module_version": "2.0.0",
       "_view_name": "LayoutView",
       "align_content": null,
       "align_items": null,
       "align_self": null,
       "border_bottom": null,
       "border_left": null,
       "border_right": null,
       "border_top": null,
       "bottom": null,
       "display": null,
       "flex": null,
       "flex_flow": null,
       "grid_area": null,
       "grid_auto_columns": null,
       "grid_auto_flow": null,
       "grid_auto_rows": null,
       "grid_column": null,
       "grid_gap": null,
       "grid_row": null,
       "grid_template_areas": null,
       "grid_template_columns": null,
       "grid_template_rows": null,
       "height": null,
       "justify_content": null,
       "justify_items": null,
       "left": null,
       "margin": null,
       "max_height": null,
       "max_width": null,
       "min_height": null,
       "min_width": null,
       "object_fit": null,
       "object_position": null,
       "order": null,
       "overflow": null,
       "padding": null,
       "right": null,
       "top": null,
       "visibility": null,
       "width": null
      }
     },
     "d3918a99b98944e1801b1489ec102b10": {
      "model_module": "@jupyter-widgets/controls",
      "model_module_version": "2.0.0",
      "model_name": "HTMLModel",
      "state": {
       "_dom_classes": [],
       "_model_module": "@jupyter-widgets/controls",
       "_model_module_version": "2.0.0",
       "_model_name": "HTMLModel",
       "_view_count": null,
       "_view_module": "@jupyter-widgets/controls",
       "_view_module_version": "2.0.0",
       "_view_name": "HTMLView",
       "description": "",
       "description_allow_html": false,
       "layout": "IPY_MODEL_d5110814083c4b0b9acfcb081b1fef33",
       "placeholder": "​",
       "style": "IPY_MODEL_a1ae5e926e3148a283e8655fbde5142b",
       "tabbable": null,
       "tooltip": null,
       "value": "100%"
      }
     },
     "d5110814083c4b0b9acfcb081b1fef33": {
      "model_module": "@jupyter-widgets/base",
      "model_module_version": "2.0.0",
      "model_name": "LayoutModel",
      "state": {
       "_model_module": "@jupyter-widgets/base",
       "_model_module_version": "2.0.0",
       "_model_name": "LayoutModel",
       "_view_count": null,
       "_view_module": "@jupyter-widgets/base",
       "_view_module_version": "2.0.0",
       "_view_name": "LayoutView",
       "align_content": null,
       "align_items": null,
       "align_self": null,
       "border_bottom": null,
       "border_left": null,
       "border_right": null,
       "border_top": null,
       "bottom": null,
       "display": null,
       "flex": null,
       "flex_flow": null,
       "grid_area": null,
       "grid_auto_columns": null,
       "grid_auto_flow": null,
       "grid_auto_rows": null,
       "grid_column": null,
       "grid_gap": null,
       "grid_row": null,
       "grid_template_areas": null,
       "grid_template_columns": null,
       "grid_template_rows": null,
       "height": null,
       "justify_content": null,
       "justify_items": null,
       "left": null,
       "margin": null,
       "max_height": null,
       "max_width": null,
       "min_height": null,
       "min_width": null,
       "object_fit": null,
       "object_position": null,
       "order": null,
       "overflow": null,
       "padding": null,
       "right": null,
       "top": null,
       "visibility": null,
       "width": null
      }
     },
     "e54157c034434f739e5b2277f748d8ae": {
      "model_module": "@jupyter-widgets/base",
      "model_module_version": "2.0.0",
      "model_name": "LayoutModel",
      "state": {
       "_model_module": "@jupyter-widgets/base",
       "_model_module_version": "2.0.0",
       "_model_name": "LayoutModel",
       "_view_count": null,
       "_view_module": "@jupyter-widgets/base",
       "_view_module_version": "2.0.0",
       "_view_name": "LayoutView",
       "align_content": null,
       "align_items": null,
       "align_self": null,
       "border_bottom": null,
       "border_left": null,
       "border_right": null,
       "border_top": null,
       "bottom": null,
       "display": null,
       "flex": null,
       "flex_flow": null,
       "grid_area": null,
       "grid_auto_columns": null,
       "grid_auto_flow": null,
       "grid_auto_rows": null,
       "grid_column": null,
       "grid_gap": null,
       "grid_row": null,
       "grid_template_areas": null,
       "grid_template_columns": null,
       "grid_template_rows": null,
       "height": null,
       "justify_content": null,
       "justify_items": null,
       "left": null,
       "margin": null,
       "max_height": null,
       "max_width": null,
       "min_height": null,
       "min_width": null,
       "object_fit": null,
       "object_position": null,
       "order": null,
       "overflow": null,
       "padding": null,
       "right": null,
       "top": null,
       "visibility": null,
       "width": null
      }
     },
     "ff4445803151493c9f34f83dd9ff8aa0": {
      "model_module": "@jupyter-widgets/controls",
      "model_module_version": "2.0.0",
      "model_name": "ProgressStyleModel",
      "state": {
       "_model_module": "@jupyter-widgets/controls",
       "_model_module_version": "2.0.0",
       "_model_name": "ProgressStyleModel",
       "_view_count": null,
       "_view_module": "@jupyter-widgets/base",
       "_view_module_version": "2.0.0",
       "_view_name": "StyleView",
       "bar_color": null,
       "description_width": ""
      }
     }
    },
    "version_major": 2,
    "version_minor": 0
   }
  }
 },
 "nbformat": 4,
 "nbformat_minor": 5
}
